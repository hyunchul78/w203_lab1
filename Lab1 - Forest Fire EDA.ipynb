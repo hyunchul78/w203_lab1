{
 "cells": [
  {
   "cell_type": "markdown",
   "metadata": {},
   "source": [
    "# Forest Fire EDA\n",
    "Authors: Rishikesh Majumder, Jake Mitchell, and Peter Kim"
   ]
  },
  {
   "cell_type": "markdown",
   "metadata": {},
   "source": [
    "Packages Used:"
   ]
  },
  {
   "cell_type": "code",
   "execution_count": 1,
   "metadata": {},
   "outputs": [],
   "source": [
    "library(ggplot2)"
   ]
  },
  {
   "cell_type": "markdown",
   "metadata": {},
   "source": [
    "## Introduction"
   ]
  },
  {
   "cell_type": "markdown",
   "metadata": {},
   "source": [
    "#### Research Question"
   ]
  },
  {
   "cell_type": "markdown",
   "metadata": {},
   "source": [
    "#### Load Data Set"
   ]
  },
  {
   "cell_type": "code",
   "execution_count": 1,
   "metadata": {
    "scrolled": false
   },
   "outputs": [
    {
     "data": {
      "text/html": [
       "<table>\n",
       "<thead><tr><th scope=col>X</th><th scope=col>Y</th><th scope=col>month</th><th scope=col>day</th><th scope=col>FFMC</th><th scope=col>DMC</th><th scope=col>DC</th><th scope=col>ISI</th><th scope=col>temp</th><th scope=col>RH</th><th scope=col>wind</th><th scope=col>rain</th><th scope=col>area</th><th scope=col>logArea</th></tr></thead>\n",
       "<tbody>\n",
       "\t<tr><td>7    </td><td>5    </td><td>mar  </td><td>fri  </td><td>86.2 </td><td>26.2 </td><td> 94.3</td><td> 5.1 </td><td> 8.2 </td><td>51   </td><td>6.7  </td><td>0.0  </td><td>0    </td><td>-Inf </td></tr>\n",
       "\t<tr><td>7    </td><td>4    </td><td>oct  </td><td>tue  </td><td>90.6 </td><td>35.4 </td><td>669.1</td><td> 6.7 </td><td>18.0 </td><td>33   </td><td>0.9  </td><td>0.0  </td><td>0    </td><td>-Inf </td></tr>\n",
       "\t<tr><td>7    </td><td>4    </td><td>oct  </td><td>sat  </td><td>90.6 </td><td>43.7 </td><td>686.9</td><td> 6.7 </td><td>14.6 </td><td>33   </td><td>1.3  </td><td>0.0  </td><td>0    </td><td>-Inf </td></tr>\n",
       "\t<tr><td>8    </td><td>6    </td><td>mar  </td><td>fri  </td><td>91.7 </td><td>33.3 </td><td> 77.5</td><td> 9.0 </td><td> 8.3 </td><td>97   </td><td>4.0  </td><td>0.2  </td><td>0    </td><td>-Inf </td></tr>\n",
       "\t<tr><td>8    </td><td>6    </td><td>mar  </td><td>sun  </td><td>89.3 </td><td>51.3 </td><td>102.2</td><td> 9.6 </td><td>11.4 </td><td>99   </td><td>1.8  </td><td>0.0  </td><td>0    </td><td>-Inf </td></tr>\n",
       "\t<tr><td>8    </td><td>6    </td><td>aug  </td><td>sun  </td><td>92.3 </td><td>85.3 </td><td>488.0</td><td>14.7 </td><td>22.2 </td><td>29   </td><td>5.4  </td><td>0.0  </td><td>0    </td><td>-Inf </td></tr>\n",
       "</tbody>\n",
       "</table>\n"
      ],
      "text/latex": [
       "\\begin{tabular}{r|llllllllllllll}\n",
       " X & Y & month & day & FFMC & DMC & DC & ISI & temp & RH & wind & rain & area & logArea\\\\\n",
       "\\hline\n",
       "\t 7     & 5     & mar   & fri   & 86.2  & 26.2  &  94.3 &  5.1  &  8.2  & 51    & 6.7   & 0.0   & 0     & -Inf \\\\\n",
       "\t 7     & 4     & oct   & tue   & 90.6  & 35.4  & 669.1 &  6.7  & 18.0  & 33    & 0.9   & 0.0   & 0     & -Inf \\\\\n",
       "\t 7     & 4     & oct   & sat   & 90.6  & 43.7  & 686.9 &  6.7  & 14.6  & 33    & 1.3   & 0.0   & 0     & -Inf \\\\\n",
       "\t 8     & 6     & mar   & fri   & 91.7  & 33.3  &  77.5 &  9.0  &  8.3  & 97    & 4.0   & 0.2   & 0     & -Inf \\\\\n",
       "\t 8     & 6     & mar   & sun   & 89.3  & 51.3  & 102.2 &  9.6  & 11.4  & 99    & 1.8   & 0.0   & 0     & -Inf \\\\\n",
       "\t 8     & 6     & aug   & sun   & 92.3  & 85.3  & 488.0 & 14.7  & 22.2  & 29    & 5.4   & 0.0   & 0     & -Inf \\\\\n",
       "\\end{tabular}\n"
      ],
      "text/markdown": [
       "\n",
       "X | Y | month | day | FFMC | DMC | DC | ISI | temp | RH | wind | rain | area | logArea | \n",
       "|---|---|---|---|---|---|\n",
       "| 7     | 5     | mar   | fri   | 86.2  | 26.2  |  94.3 |  5.1  |  8.2  | 51    | 6.7   | 0.0   | 0     | -Inf  | \n",
       "| 7     | 4     | oct   | tue   | 90.6  | 35.4  | 669.1 |  6.7  | 18.0  | 33    | 0.9   | 0.0   | 0     | -Inf  | \n",
       "| 7     | 4     | oct   | sat   | 90.6  | 43.7  | 686.9 |  6.7  | 14.6  | 33    | 1.3   | 0.0   | 0     | -Inf  | \n",
       "| 8     | 6     | mar   | fri   | 91.7  | 33.3  |  77.5 |  9.0  |  8.3  | 97    | 4.0   | 0.2   | 0     | -Inf  | \n",
       "| 8     | 6     | mar   | sun   | 89.3  | 51.3  | 102.2 |  9.6  | 11.4  | 99    | 1.8   | 0.0   | 0     | -Inf  | \n",
       "| 8     | 6     | aug   | sun   | 92.3  | 85.3  | 488.0 | 14.7  | 22.2  | 29    | 5.4   | 0.0   | 0     | -Inf  | \n",
       "\n",
       "\n"
      ],
      "text/plain": [
       "  X Y month day FFMC DMC  DC    ISI  temp RH wind rain area logArea\n",
       "1 7 5 mar   fri 86.2 26.2  94.3  5.1  8.2 51 6.7  0.0  0    -Inf   \n",
       "2 7 4 oct   tue 90.6 35.4 669.1  6.7 18.0 33 0.9  0.0  0    -Inf   \n",
       "3 7 4 oct   sat 90.6 43.7 686.9  6.7 14.6 33 1.3  0.0  0    -Inf   \n",
       "4 8 6 mar   fri 91.7 33.3  77.5  9.0  8.3 97 4.0  0.2  0    -Inf   \n",
       "5 8 6 mar   sun 89.3 51.3 102.2  9.6 11.4 99 1.8  0.0  0    -Inf   \n",
       "6 8 6 aug   sun 92.3 85.3 488.0 14.7 22.2 29 5.4  0.0  0    -Inf   "
      ]
     },
     "metadata": {},
     "output_type": "display_data"
    }
   ],
   "source": [
    "#forestfire\n",
    "ff = read.csv(\"forestfires.csv\")\n",
    "head(ff)"
   ]
  },
  {
   "cell_type": "code",
   "execution_count": 4,
   "metadata": {},
   "outputs": [
    {
     "data": {
      "text/plain": [
       "   Min. 1st Qu.  Median    Mean 3rd Qu.    Max. \n",
       "   0.00    0.00    0.52   12.85    6.57 1090.84 "
      ]
     },
     "metadata": {},
     "output_type": "display_data"
    }
   ],
   "source": [
    "summary(ff$area)"
   ]
  },
  {
   "cell_type": "markdown",
   "metadata": {},
   "source": [
    "#### Data Description"
   ]
  },
  {
   "cell_type": "markdown",
   "metadata": {},
   "source": [
    "#### Data Quality"
   ]
  },
  {
   "cell_type": "code",
   "execution_count": 3,
   "metadata": {
    "scrolled": false
   },
   "outputs": [
    {
     "data": {},
     "metadata": {},
     "output_type": "display_data"
    },
    {
     "data": {
      "image/png": "[encoded data removed]",
      "text/plain": [
       "plot without title"
      ]
     },
     "metadata": {},
     "output_type": "display_data"
    }
   ],
   "source": [
    "ggplot(ff, aes(x=area)) +\n",
    "  geom_histogram(bins=100, color=\"black\", fill=\"red\")"
   ]
  },
  {
   "cell_type": "markdown",
   "metadata": {},
   "source": [
    "We see that we have 270 fires with a non 0 area.  If we assume the most severe fires to be the top 10% of non 0 area fires, that would correlate to fires with an area greater than 50 hectares.  If we want to look at all significant fires, we can look at the top third, which would be fires over 10 hectares."
   ]
  },
  {
   "cell_type": "code",
   "execution_count": 11,
   "metadata": {},
   "outputs": [
    {
     "data": {
      "text/html": [
       "517"
      ],
      "text/latex": [
       "517"
      ],
      "text/markdown": [
       "517"
      ],
      "text/plain": [
       "[1] 517"
      ]
     },
     "metadata": {},
     "output_type": "display_data"
    },
    {
     "data": {
      "text/html": [
       "270"
      ],
      "text/latex": [
       "270"
      ],
      "text/markdown": [
       "270"
      ],
      "text/plain": [
       "[1] 270"
      ]
     },
     "metadata": {},
     "output_type": "display_data"
    },
    {
     "data": {
      "text/html": [
       "95"
      ],
      "text/latex": [
       "95"
      ],
      "text/markdown": [
       "95"
      ],
      "text/plain": [
       "[1] 95"
      ]
     },
     "metadata": {},
     "output_type": "display_data"
    },
    {
     "data": {
      "text/html": [
       "59"
      ],
      "text/latex": [
       "59"
      ],
      "text/markdown": [
       "59"
      ],
      "text/plain": [
       "[1] 59"
      ]
     },
     "metadata": {},
     "output_type": "display_data"
    },
    {
     "data": {
      "text/html": [
       "43"
      ],
      "text/latex": [
       "43"
      ],
      "text/markdown": [
       "43"
      ],
      "text/plain": [
       "[1] 43"
      ]
     },
     "metadata": {},
     "output_type": "display_data"
    },
    {
     "data": {
      "text/html": [
       "31"
      ],
      "text/latex": [
       "31"
      ],
      "text/markdown": [
       "31"
      ],
      "text/plain": [
       "[1] 31"
      ]
     },
     "metadata": {},
     "output_type": "display_data"
    },
    {
     "data": {
      "text/html": [
       "24"
      ],
      "text/latex": [
       "24"
      ],
      "text/markdown": [
       "24"
      ],
      "text/plain": [
       "[1] 24"
      ]
     },
     "metadata": {},
     "output_type": "display_data"
    },
    {
     "data": {
      "text/html": [
       "20"
      ],
      "text/latex": [
       "20"
      ],
      "text/markdown": [
       "20"
      ],
      "text/plain": [
       "[1] 20"
      ]
     },
     "metadata": {},
     "output_type": "display_data"
    },
    {
     "data": {
      "text/html": [
       "18"
      ],
      "text/latex": [
       "18"
      ],
      "text/markdown": [
       "18"
      ],
      "text/plain": [
       "[1] 18"
      ]
     },
     "metadata": {},
     "output_type": "display_data"
    }
   ],
   "source": [
    "nrow(ff)\n",
    "nrow(ff[ff$area>0,])\n",
    "nrow(ff[ff$area>10,])\n",
    "nrow(ff[ff$area>20,])\n",
    "nrow(ff[ff$area>30,])\n",
    "nrow(ff[ff$area>40,])\n",
    "nrow(ff[ff$area>50,])\n",
    "nrow(ff[ff$area>60,])\n",
    "nrow(ff[ff$area>70,])"
   ]
  },
  {
   "cell_type": "markdown",
   "metadata": {},
   "source": [
    "#### Data Processing"
   ]
  },
  {
   "cell_type": "markdown",
   "metadata": {},
   "source": [
    "## Univariate Analysis"
   ]
  },
  {
   "cell_type": "markdown",
   "metadata": {},
   "source": [
    "## Key Relationships"
   ]
  },
  {
   "cell_type": "markdown",
   "metadata": {},
   "source": [
    "## Secondary Effects"
   ]
  },
  {
   "cell_type": "markdown",
   "metadata": {},
   "source": [
    "## Conclusion"
   ]
  },
  {
   "cell_type": "code",
   "execution_count": null,
   "metadata": {},
   "outputs": [],
   "source": [
    "#severe forest fire\n",
    "sff = \n"
   ]
  }
 ],
 "metadata": {
  "kernelspec": {
   "display_name": "R",
   "language": "R",
   "name": "ir"
  },
  "language_info": {
   "codemirror_mode": "r",
   "file_extension": ".r",
   "mimetype": "text/x-r-source",
   "name": "R",
   "pygments_lexer": "r",
   "version": "3.5.1"
  }
 },
 "nbformat": 4,
 "nbformat_minor": 2
}
