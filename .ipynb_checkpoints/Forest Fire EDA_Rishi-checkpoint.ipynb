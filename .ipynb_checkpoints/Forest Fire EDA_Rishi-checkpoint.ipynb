{
 "cells": [
  {
   "cell_type": "code",
   "execution_count": 1,
   "metadata": {
    "collapsed": true
   },
   "outputs": [],
   "source": [
    "# Reading file data\n",
    "fireData <- read.csv('forestfires.csv')"
   ]
  },
  {
   "cell_type": "code",
   "execution_count": 3,
   "metadata": {
    "collapsed": false
   },
   "outputs": [
    {
     "name": "stdout",
     "output_type": "stream",
     "text": [
      "'data.frame':\t517 obs. of  13 variables:\n",
      " $ X    : int  7 7 7 8 8 8 8 8 8 7 ...\n",
      " $ Y    : int  5 4 4 6 6 6 6 6 6 5 ...\n",
      " $ month: Factor w/ 12 levels \"apr\",\"aug\",\"dec\",..: 8 11 11 8 8 2 2 2 12 12 ...\n",
      " $ day  : Factor w/ 7 levels \"fri\",\"mon\",\"sat\",..: 1 6 3 1 4 4 2 2 6 3 ...\n",
      " $ FFMC : num  86.2 90.6 90.6 91.7 89.3 92.3 92.3 91.5 91 92.5 ...\n",
      " $ DMC  : num  26.2 35.4 43.7 33.3 51.3 ...\n",
      " $ DC   : num  94.3 669.1 686.9 77.5 102.2 ...\n",
      " $ ISI  : num  5.1 6.7 6.7 9 9.6 14.7 8.5 10.7 7 7.1 ...\n",
      " $ temp : num  8.2 18 14.6 8.3 11.4 22.2 24.1 8 13.1 22.8 ...\n",
      " $ RH   : int  51 33 33 97 99 29 27 86 63 40 ...\n",
      " $ wind : num  6.7 0.9 1.3 4 1.8 5.4 3.1 2.2 5.4 4 ...\n",
      " $ rain : num  0 0 0 0.2 0 0 0 0 0 0 ...\n",
      " $ area : num  0 0 0 0 0 0 0 0 0 0 ...\n"
     ]
    }
   ],
   "source": [
    "str(fireData)"
   ]
  },
  {
   "cell_type": "code",
   "execution_count": 4,
   "metadata": {
    "collapsed": false
   },
   "outputs": [
    {
     "data": {
      "text/plain": [
       "       X               Y           month      day          FFMC      \n",
       " Min.   :1.000   Min.   :2.0   aug    :184   fri:85   Min.   :18.70  \n",
       " 1st Qu.:3.000   1st Qu.:4.0   sep    :172   mon:74   1st Qu.:90.20  \n",
       " Median :4.000   Median :4.0   mar    : 54   sat:84   Median :91.60  \n",
       " Mean   :4.669   Mean   :4.3   jul    : 32   sun:95   Mean   :90.64  \n",
       " 3rd Qu.:7.000   3rd Qu.:5.0   feb    : 20   thu:61   3rd Qu.:92.90  \n",
       " Max.   :9.000   Max.   :9.0   jun    : 17   tue:64   Max.   :96.20  \n",
       "                               (Other): 38   wed:54                  \n",
       "      DMC              DC             ISI              temp      \n",
       " Min.   :  1.1   Min.   :  7.9   Min.   : 0.000   Min.   : 2.20  \n",
       " 1st Qu.: 68.6   1st Qu.:437.7   1st Qu.: 6.500   1st Qu.:15.50  \n",
       " Median :108.3   Median :664.2   Median : 8.400   Median :19.30  \n",
       " Mean   :110.9   Mean   :547.9   Mean   : 9.022   Mean   :18.89  \n",
       " 3rd Qu.:142.4   3rd Qu.:713.9   3rd Qu.:10.800   3rd Qu.:22.80  \n",
       " Max.   :291.3   Max.   :860.6   Max.   :56.100   Max.   :33.30  \n",
       "                                                                 \n",
       "       RH              wind            rain              area        \n",
       " Min.   : 15.00   Min.   :0.400   Min.   :0.00000   Min.   :   0.00  \n",
       " 1st Qu.: 33.00   1st Qu.:2.700   1st Qu.:0.00000   1st Qu.:   0.00  \n",
       " Median : 42.00   Median :4.000   Median :0.00000   Median :   0.52  \n",
       " Mean   : 44.29   Mean   :4.018   Mean   :0.02166   Mean   :  12.85  \n",
       " 3rd Qu.: 53.00   3rd Qu.:4.900   3rd Qu.:0.00000   3rd Qu.:   6.57  \n",
       " Max.   :100.00   Max.   :9.400   Max.   :6.40000   Max.   :1090.84  \n",
       "                                                                     "
      ]
     },
     "metadata": {},
     "output_type": "display_data"
    }
   ],
   "source": [
    "summary(fireData)"
   ]
  },
  {
   "cell_type": "code",
   "execution_count": 10,
   "metadata": {
    "collapsed": false
   },
   "outputs": [
    {
     "data": {
      "image/png": "[encoded data removed]",
      "text/plain": [
       "Plot with title \"Histogram of fireData$area\""
      ]
     },
     "metadata": {},
     "output_type": "display_data"
    }
   ],
   "source": [
    "hist(fireData$area, breaks=100)"
   ]
  },
  {
   "cell_type": "code",
   "execution_count": 6,
   "metadata": {
    "collapsed": false
   },
   "outputs": [
    {
     "data": {
      "image/png": "[encoded data removed]",
      "text/plain": [
       "plot without title"
      ]
     },
     "metadata": {},
     "output_type": "display_data"
    }
   ],
   "source": [
    "plot(fireData$month, fireData$area)"
   ]
  },
  {
   "cell_type": "code",
   "execution_count": 12,
   "metadata": {
    "collapsed": false
   },
   "outputs": [
    {
     "data": {
      "image/png": "[encoded data removed]",
      "text/plain": [
       "plot without title"
      ]
     },
     "metadata": {},
     "output_type": "display_data"
    }
   ],
   "source": [
    "plot(fireData$Y, fireData$FFMC)"
   ]
  },
  {
   "cell_type": "code",
   "execution_count": 13,
   "metadata": {
    "collapsed": false
   },
   "outputs": [
    {
     "data": {
      "text/html": [
       "0.0633852992383128"
      ],
      "text/latex": [
       "0.0633852992383128"
      ],
      "text/markdown": [
       "0.0633852992383128"
      ],
      "text/plain": [
       "[1] 0.0633853"
      ]
     },
     "metadata": {},
     "output_type": "display_data"
    },
    {
     "data": {
      "text/html": [
       "0.0448732251228135"
      ],
      "text/latex": [
       "0.0448732251228135"
      ],
      "text/markdown": [
       "0.0448732251228135"
      ],
      "text/plain": [
       "[1] 0.04487323"
      ]
     },
     "metadata": {},
     "output_type": "display_data"
    },
    {
     "data": {
      "text/html": [
       "0.0401220041586208"
      ],
      "text/latex": [
       "0.0401220041586208"
      ],
      "text/markdown": [
       "0.0401220041586208"
      ],
      "text/plain": [
       "[1] 0.040122"
      ]
     },
     "metadata": {},
     "output_type": "display_data"
    },
    {
     "data": {
      "text/html": [
       "0.0729942962510573"
      ],
      "text/latex": [
       "0.0729942962510573"
      ],
      "text/markdown": [
       "0.0729942962510573"
      ],
      "text/plain": [
       "[1] 0.0729943"
      ]
     },
     "metadata": {},
     "output_type": "display_data"
    },
    {
     "data": {
      "text/html": [
       "0.0493832252989162"
      ],
      "text/latex": [
       "0.0493832252989162"
      ],
      "text/markdown": [
       "0.0493832252989162"
      ],
      "text/plain": [
       "[1] 0.04938323"
      ]
     },
     "metadata": {},
     "output_type": "display_data"
    },
    {
     "data": {
      "text/html": [
       "0.00825768784122679"
      ],
      "text/latex": [
       "0.00825768784122679"
      ],
      "text/markdown": [
       "0.00825768784122679"
      ],
      "text/plain": [
       "[1] 0.008257688"
      ]
     },
     "metadata": {},
     "output_type": "display_data"
    },
    {
     "data": {
      "text/html": [
       "0.0978441073416846"
      ],
      "text/latex": [
       "0.0978441073416846"
      ],
      "text/markdown": [
       "0.0978441073416846"
      ],
      "text/plain": [
       "[1] 0.09784411"
      ]
     },
     "metadata": {},
     "output_type": "display_data"
    },
    {
     "data": {
      "text/html": [
       "-0.0755185634698892"
      ],
      "text/latex": [
       "-0.0755185634698892"
      ],
      "text/markdown": [
       "-0.0755185634698892"
      ],
      "text/plain": [
       "[1] -0.07551856"
      ]
     },
     "metadata": {},
     "output_type": "display_data"
    },
    {
     "data": {
      "text/html": [
       "0.0123172768886731"
      ],
      "text/latex": [
       "0.0123172768886731"
      ],
      "text/markdown": [
       "0.0123172768886731"
      ],
      "text/plain": [
       "[1] 0.01231728"
      ]
     },
     "metadata": {},
     "output_type": "display_data"
    },
    {
     "data": {
      "text/html": [
       "-0.00736572927929229"
      ],
      "text/latex": [
       "-0.00736572927929229"
      ],
      "text/markdown": [
       "-0.00736572927929229"
      ],
      "text/plain": [
       "[1] -0.007365729"
      ]
     },
     "metadata": {},
     "output_type": "display_data"
    }
   ],
   "source": [
    "cor(fireData$area, fireData$X, use = \"complete.obs\")\n",
    "cor(fireData$area, fireData$Y, use = \"complete.obs\")\n",
    "cor(fireData$area, fireData$FFMC, use = \"complete.obs\")\n",
    "cor(fireData$area, fireData$DMC, use = \"complete.obs\")\n",
    "cor(fireData$area, fireData$DC, use = \"complete.obs\")\n",
    "cor(fireData$area, fireData$ISI, use = \"complete.obs\")\n",
    "cor(fireData$area, fireData$temp, use = \"complete.obs\")\n",
    "cor(fireData$area, fireData$RH, use = \"complete.obs\")\n",
    "cor(fireData$area, fireData$wind, use = \"complete.obs\")\n",
    "cor(fireData$area, fireData$rain, use = \"complete.obs\")"
   ]
  },
  {
   "cell_type": "code",
   "execution_count": 14,
   "metadata": {
    "collapsed": false
   },
   "outputs": [
    {
     "name": "stderr",
     "output_type": "stream",
     "text": [
      "\n",
      "Attaching package: 'dplyr'\n",
      "\n",
      "The following objects are masked from 'package:stats':\n",
      "\n",
      "    filter, lag\n",
      "\n",
      "The following objects are masked from 'package:base':\n",
      "\n",
      "    intersect, setdiff, setequal, union\n",
      "\n"
     ]
    },
    {
     "data": {
      "text/html": [
       "<table>\n",
       "<thead><tr><th scope=col>month</th><th scope=col>mean(area)</th><th scope=col>median(area)</th><th scope=col>length(area)</th><th scope=col>sum(area)</th></tr></thead>\n",
       "<tbody>\n",
       "\t<tr><td>apr      </td><td> 8.891111</td><td> 0.000   </td><td>  9      </td><td>  80.02  </td></tr>\n",
       "\t<tr><td>aug      </td><td>12.489076</td><td> 0.545   </td><td>184      </td><td>2297.99  </td></tr>\n",
       "\t<tr><td>dec      </td><td>13.330000</td><td>10.730   </td><td>  9      </td><td> 119.97  </td></tr>\n",
       "\t<tr><td>feb      </td><td> 6.275000</td><td> 0.550   </td><td> 20      </td><td> 125.50  </td></tr>\n",
       "\t<tr><td>jan      </td><td> 0.000000</td><td> 0.000   </td><td>  2      </td><td>   0.00  </td></tr>\n",
       "\t<tr><td>jul      </td><td>14.369687</td><td> 1.035   </td><td> 32      </td><td> 459.83  </td></tr>\n",
       "\t<tr><td>jun      </td><td> 5.841176</td><td> 0.000   </td><td> 17      </td><td>  99.30  </td></tr>\n",
       "\t<tr><td>mar      </td><td> 4.356667</td><td> 0.000   </td><td> 54      </td><td> 235.26  </td></tr>\n",
       "\t<tr><td>may      </td><td>19.240000</td><td>19.240   </td><td>  2      </td><td>  38.48  </td></tr>\n",
       "\t<tr><td>nov      </td><td> 0.000000</td><td> 0.000   </td><td>  1      </td><td>   0.00  </td></tr>\n",
       "\t<tr><td>oct      </td><td> 6.638000</td><td> 0.000   </td><td> 15      </td><td>  99.57  </td></tr>\n",
       "\t<tr><td>sep      </td><td>17.942616</td><td> 1.360   </td><td>172      </td><td>3086.13  </td></tr>\n",
       "</tbody>\n",
       "</table>\n"
      ],
      "text/latex": [
       "\\begin{tabular}{r|lllll}\n",
       " month & mean(area) & median(area) & length(area) & sum(area)\\\\\n",
       "\\hline\n",
       "\t apr       &  8.891111 &  0.000    &   9       &   80.02  \\\\\n",
       "\t aug       & 12.489076 &  0.545    & 184       & 2297.99  \\\\\n",
       "\t dec       & 13.330000 & 10.730    &   9       &  119.97  \\\\\n",
       "\t feb       &  6.275000 &  0.550    &  20       &  125.50  \\\\\n",
       "\t jan       &  0.000000 &  0.000    &   2       &    0.00  \\\\\n",
       "\t jul       & 14.369687 &  1.035    &  32       &  459.83  \\\\\n",
       "\t jun       &  5.841176 &  0.000    &  17       &   99.30  \\\\\n",
       "\t mar       &  4.356667 &  0.000    &  54       &  235.26  \\\\\n",
       "\t may       & 19.240000 & 19.240    &   2       &   38.48  \\\\\n",
       "\t nov       &  0.000000 &  0.000    &   1       &    0.00  \\\\\n",
       "\t oct       &  6.638000 &  0.000    &  15       &   99.57  \\\\\n",
       "\t sep       & 17.942616 &  1.360    & 172       & 3086.13  \\\\\n",
       "\\end{tabular}\n"
      ],
      "text/markdown": [
       "\n",
       "month | mean(area) | median(area) | length(area) | sum(area) | \n",
       "|---|---|---|---|---|---|---|---|---|---|---|---|\n",
       "| apr       |  8.891111 |  0.000    |   9       |   80.02   | \n",
       "| aug       | 12.489076 |  0.545    | 184       | 2297.99   | \n",
       "| dec       | 13.330000 | 10.730    |   9       |  119.97   | \n",
       "| feb       |  6.275000 |  0.550    |  20       |  125.50   | \n",
       "| jan       |  0.000000 |  0.000    |   2       |    0.00   | \n",
       "| jul       | 14.369687 |  1.035    |  32       |  459.83   | \n",
       "| jun       |  5.841176 |  0.000    |  17       |   99.30   | \n",
       "| mar       |  4.356667 |  0.000    |  54       |  235.26   | \n",
       "| may       | 19.240000 | 19.240    |   2       |   38.48   | \n",
       "| nov       |  0.000000 |  0.000    |   1       |    0.00   | \n",
       "| oct       |  6.638000 |  0.000    |  15       |   99.57   | \n",
       "| sep       | 17.942616 |  1.360    | 172       | 3086.13   | \n",
       "\n",
       "\n"
      ],
      "text/plain": [
       "   month mean(area) median(area) length(area) sum(area)\n",
       "1  apr    8.891111   0.000         9            80.02  \n",
       "2  aug   12.489076   0.545       184          2297.99  \n",
       "3  dec   13.330000  10.730         9           119.97  \n",
       "4  feb    6.275000   0.550        20           125.50  \n",
       "5  jan    0.000000   0.000         2             0.00  \n",
       "6  jul   14.369687   1.035        32           459.83  \n",
       "7  jun    5.841176   0.000        17            99.30  \n",
       "8  mar    4.356667   0.000        54           235.26  \n",
       "9  may   19.240000  19.240         2            38.48  \n",
       "10 nov    0.000000   0.000         1             0.00  \n",
       "11 oct    6.638000   0.000        15            99.57  \n",
       "12 sep   17.942616   1.360       172          3086.13  "
      ]
     },
     "metadata": {},
     "output_type": "display_data"
    }
   ],
   "source": [
    "library(dplyr)\n",
    "fireData %>%\n",
    "    group_by(month) %>%\n",
    "    summarize(mean(area),\n",
    "    median(area), length(area), sum(area))"
   ]
  },
  {
   "cell_type": "code",
   "execution_count": 17,
   "metadata": {
    "collapsed": false
   },
   "outputs": [
    {
     "data": {
      "text/html": [
       "<table>\n",
       "<thead><tr><th scope=col>month</th><th scope=col>day</th><th scope=col>mean(area)</th><th scope=col>median(area)</th><th scope=col>length(area)</th><th scope=col>sum(area)</th></tr></thead>\n",
       "<tbody>\n",
       "\t<tr><td>apr      </td><td>fri      </td><td> 0.000000</td><td> 0.000   </td><td> 1       </td><td>  0.00   </td></tr>\n",
       "\t<tr><td>apr      </td><td>mon      </td><td> 3.350000</td><td> 3.350   </td><td> 1       </td><td>  3.35   </td></tr>\n",
       "\t<tr><td>apr      </td><td>sat      </td><td> 0.000000</td><td> 0.000   </td><td> 1       </td><td>  0.00   </td></tr>\n",
       "\t<tr><td>apr      </td><td>sun      </td><td>20.376667</td><td> 0.000   </td><td> 3       </td><td> 61.13   </td></tr>\n",
       "\t<tr><td>apr      </td><td>thu      </td><td> 7.770000</td><td> 7.770   </td><td> 2       </td><td> 15.54   </td></tr>\n",
       "\t<tr><td>apr      </td><td>wed      </td><td> 0.000000</td><td> 0.000   </td><td> 1       </td><td>  0.00   </td></tr>\n",
       "\t<tr><td>aug      </td><td>fri      </td><td> 5.600476</td><td> 0.610   </td><td>21       </td><td>117.61   </td></tr>\n",
       "\t<tr><td>aug      </td><td>mon      </td><td> 1.187333</td><td> 0.000   </td><td>15       </td><td> 17.81   </td></tr>\n",
       "\t<tr><td>aug      </td><td>sat      </td><td>14.054138</td><td> 1.940   </td><td>29       </td><td>407.57   </td></tr>\n",
       "\t<tr><td>aug      </td><td>sun      </td><td> 9.866500</td><td> 0.045   </td><td>40       </td><td>394.66   </td></tr>\n",
       "\t<tr><td>aug      </td><td>thu      </td><td>32.198846</td><td> 0.000   </td><td>26       </td><td>837.17   </td></tr>\n",
       "\t<tr><td>aug      </td><td>tue      </td><td> 6.228571</td><td> 0.655   </td><td>28       </td><td>174.40   </td></tr>\n",
       "\t<tr><td>aug      </td><td>wed      </td><td>13.950800</td><td> 0.770   </td><td>25       </td><td>348.77   </td></tr>\n",
       "\t<tr><td>dec      </td><td>fri      </td><td> 9.270000</td><td> 9.270   </td><td> 1       </td><td>  9.27   </td></tr>\n",
       "\t<tr><td>dec      </td><td>mon      </td><td>15.095000</td><td>14.290   </td><td> 4       </td><td> 60.38   </td></tr>\n",
       "\t<tr><td>dec      </td><td>sun      </td><td> 8.980000</td><td> 8.980   </td><td> 1       </td><td>  8.98   </td></tr>\n",
       "\t<tr><td>dec      </td><td>thu      </td><td> 5.380000</td><td> 5.380   </td><td> 1       </td><td>  5.38   </td></tr>\n",
       "\t<tr><td>dec      </td><td>tue      </td><td>24.770000</td><td>24.770   </td><td> 1       </td><td> 24.77   </td></tr>\n",
       "\t<tr><td>dec      </td><td>wed      </td><td>11.190000</td><td>11.190   </td><td> 1       </td><td> 11.19   </td></tr>\n",
       "\t<tr><td>feb      </td><td>fri      </td><td> 5.772000</td><td> 0.000   </td><td> 5       </td><td> 28.86   </td></tr>\n",
       "\t<tr><td>feb      </td><td>mon      </td><td> 3.320000</td><td> 0.000   </td><td> 3       </td><td>  9.96   </td></tr>\n",
       "\t<tr><td>feb      </td><td>sat      </td><td> 1.710000</td><td> 0.000   </td><td> 4       </td><td>  6.84   </td></tr>\n",
       "\t<tr><td>feb      </td><td>sun      </td><td>17.802500</td><td> 9.715   </td><td> 4       </td><td> 71.21   </td></tr>\n",
       "\t<tr><td>feb      </td><td>thu      </td><td> 0.000000</td><td> 0.000   </td><td> 1       </td><td>  0.00   </td></tr>\n",
       "\t<tr><td>feb      </td><td>tue      </td><td> 3.765000</td><td> 3.765   </td><td> 2       </td><td>  7.53   </td></tr>\n",
       "\t<tr><td>feb      </td><td>wed      </td><td> 1.100000</td><td> 1.100   </td><td> 1       </td><td>  1.10   </td></tr>\n",
       "\t<tr><td>jan      </td><td>sat      </td><td> 0.000000</td><td> 0.000   </td><td> 1       </td><td>  0.00   </td></tr>\n",
       "\t<tr><td>jan      </td><td>sun      </td><td> 0.000000</td><td> 0.000   </td><td> 1       </td><td>  0.00   </td></tr>\n",
       "\t<tr><td>jul      </td><td>fri      </td><td>13.220000</td><td> 2.640   </td><td> 3       </td><td> 39.66   </td></tr>\n",
       "\t<tr><td>jul      </td><td>mon      </td><td>70.040000</td><td> 0.815   </td><td> 4       </td><td>280.16   </td></tr>\n",
       "\t<tr><td>...</td><td>...</td><td>...</td><td>...</td><td>...</td><td>...</td></tr>\n",
       "\t<tr><td>jul       </td><td>wed       </td><td> 2.5766667</td><td> 0.000    </td><td> 3        </td><td>   7.73   </td></tr>\n",
       "\t<tr><td>jun       </td><td>fri       </td><td> 0.3966667</td><td> 0.000    </td><td> 3        </td><td>   1.19   </td></tr>\n",
       "\t<tr><td>jun       </td><td>mon       </td><td> 1.8200000</td><td> 1.940    </td><td> 3        </td><td>   5.46   </td></tr>\n",
       "\t<tr><td>jun       </td><td>sat       </td><td>35.1600000</td><td>35.160    </td><td> 2        </td><td>  70.32   </td></tr>\n",
       "\t<tr><td>jun       </td><td>sun       </td><td> 0.2250000</td><td> 0.000    </td><td> 4        </td><td>   0.90   </td></tr>\n",
       "\t<tr><td>jun       </td><td>thu       </td><td> 6.6350000</td><td> 6.635    </td><td> 2        </td><td>  13.27   </td></tr>\n",
       "\t<tr><td>jun       </td><td>wed       </td><td> 2.7200000</td><td> 0.000    </td><td> 3        </td><td>   8.16   </td></tr>\n",
       "\t<tr><td>mar       </td><td>fri       </td><td> 0.9854545</td><td> 0.000    </td><td>11        </td><td>  10.84   </td></tr>\n",
       "\t<tr><td>mar       </td><td>mon       </td><td> 8.4950000</td><td> 0.475    </td><td>12        </td><td> 101.94   </td></tr>\n",
       "\t<tr><td>mar       </td><td>sat       </td><td> 8.0650000</td><td> 0.970    </td><td>10        </td><td>  80.65   </td></tr>\n",
       "\t<tr><td>mar       </td><td>sun       </td><td> 3.9328571</td><td> 0.000    </td><td> 7        </td><td>  27.53   </td></tr>\n",
       "\t<tr><td>mar       </td><td>thu       </td><td> 1.7500000</td><td> 0.000    </td><td> 5        </td><td>   8.75   </td></tr>\n",
       "\t<tr><td>mar       </td><td>tue       </td><td> 0.0000000</td><td> 0.000    </td><td> 5        </td><td>   0.00   </td></tr>\n",
       "\t<tr><td>mar       </td><td>wed       </td><td> 1.3875000</td><td> 0.000    </td><td> 4        </td><td>   5.55   </td></tr>\n",
       "\t<tr><td>may       </td><td>fri       </td><td>38.4800000</td><td>38.480    </td><td> 1        </td><td>  38.48   </td></tr>\n",
       "\t<tr><td>may       </td><td>sat       </td><td> 0.0000000</td><td> 0.000    </td><td> 1        </td><td>   0.00   </td></tr>\n",
       "\t<tr><td>nov       </td><td>tue       </td><td> 0.0000000</td><td> 0.000    </td><td> 1        </td><td>   0.00   </td></tr>\n",
       "\t<tr><td>oct       </td><td>fri       </td><td> 0.0000000</td><td> 0.000    </td><td> 1        </td><td>   0.00   </td></tr>\n",
       "\t<tr><td>oct       </td><td>mon       </td><td>15.4100000</td><td> 6.135    </td><td> 4        </td><td>  61.64   </td></tr>\n",
       "\t<tr><td>oct       </td><td>sat       </td><td> 8.0766667</td><td> 0.000    </td><td> 3        </td><td>  24.23   </td></tr>\n",
       "\t<tr><td>oct       </td><td>sun       </td><td> 0.0000000</td><td> 0.000    </td><td> 3        </td><td>   0.00   </td></tr>\n",
       "\t<tr><td>oct       </td><td>tue       </td><td> 0.0000000</td><td> 0.000    </td><td> 2        </td><td>   0.00   </td></tr>\n",
       "\t<tr><td>oct       </td><td>wed       </td><td> 6.8500000</td><td> 6.850    </td><td> 2        </td><td>  13.70   </td></tr>\n",
       "\t<tr><td>sep       </td><td>fri       </td><td> 5.2981579</td><td> 1.175    </td><td>38        </td><td> 201.33   </td></tr>\n",
       "\t<tr><td>sep       </td><td>mon       </td><td> 5.9225000</td><td> 0.235    </td><td>28        </td><td> 165.83   </td></tr>\n",
       "\t<tr><td>sep       </td><td>sat       </td><td>61.8044000</td><td> 1.460    </td><td>25        </td><td>1545.11   </td></tr>\n",
       "\t<tr><td>sep       </td><td>sun       </td><td>14.0107407</td><td> 0.410    </td><td>27        </td><td> 378.29   </td></tr>\n",
       "\t<tr><td>sep       </td><td>thu       </td><td> 5.3561905</td><td> 1.120    </td><td>21        </td><td> 112.48   </td></tr>\n",
       "\t<tr><td>sep       </td><td>tue       </td><td>26.3521053</td><td> 2.930    </td><td>19        </td><td> 500.69   </td></tr>\n",
       "\t<tr><td>sep       </td><td>wed       </td><td>13.0285714</td><td> 2.075    </td><td>14        </td><td> 182.40   </td></tr>\n",
       "</tbody>\n",
       "</table>\n"
      ],
      "text/latex": [
       "\\begin{tabular}{r|llllll}\n",
       " month & day & mean(area) & median(area) & length(area) & sum(area)\\\\\n",
       "\\hline\n",
       "\t apr       & fri       &  0.000000 &  0.000    &  1        &   0.00   \\\\\n",
       "\t apr       & mon       &  3.350000 &  3.350    &  1        &   3.35   \\\\\n",
       "\t apr       & sat       &  0.000000 &  0.000    &  1        &   0.00   \\\\\n",
       "\t apr       & sun       & 20.376667 &  0.000    &  3        &  61.13   \\\\\n",
       "\t apr       & thu       &  7.770000 &  7.770    &  2        &  15.54   \\\\\n",
       "\t apr       & wed       &  0.000000 &  0.000    &  1        &   0.00   \\\\\n",
       "\t aug       & fri       &  5.600476 &  0.610    & 21        & 117.61   \\\\\n",
       "\t aug       & mon       &  1.187333 &  0.000    & 15        &  17.81   \\\\\n",
       "\t aug       & sat       & 14.054138 &  1.940    & 29        & 407.57   \\\\\n",
       "\t aug       & sun       &  9.866500 &  0.045    & 40        & 394.66   \\\\\n",
       "\t aug       & thu       & 32.198846 &  0.000    & 26        & 837.17   \\\\\n",
       "\t aug       & tue       &  6.228571 &  0.655    & 28        & 174.40   \\\\\n",
       "\t aug       & wed       & 13.950800 &  0.770    & 25        & 348.77   \\\\\n",
       "\t dec       & fri       &  9.270000 &  9.270    &  1        &   9.27   \\\\\n",
       "\t dec       & mon       & 15.095000 & 14.290    &  4        &  60.38   \\\\\n",
       "\t dec       & sun       &  8.980000 &  8.980    &  1        &   8.98   \\\\\n",
       "\t dec       & thu       &  5.380000 &  5.380    &  1        &   5.38   \\\\\n",
       "\t dec       & tue       & 24.770000 & 24.770    &  1        &  24.77   \\\\\n",
       "\t dec       & wed       & 11.190000 & 11.190    &  1        &  11.19   \\\\\n",
       "\t feb       & fri       &  5.772000 &  0.000    &  5        &  28.86   \\\\\n",
       "\t feb       & mon       &  3.320000 &  0.000    &  3        &   9.96   \\\\\n",
       "\t feb       & sat       &  1.710000 &  0.000    &  4        &   6.84   \\\\\n",
       "\t feb       & sun       & 17.802500 &  9.715    &  4        &  71.21   \\\\\n",
       "\t feb       & thu       &  0.000000 &  0.000    &  1        &   0.00   \\\\\n",
       "\t feb       & tue       &  3.765000 &  3.765    &  2        &   7.53   \\\\\n",
       "\t feb       & wed       &  1.100000 &  1.100    &  1        &   1.10   \\\\\n",
       "\t jan       & sat       &  0.000000 &  0.000    &  1        &   0.00   \\\\\n",
       "\t jan       & sun       &  0.000000 &  0.000    &  1        &   0.00   \\\\\n",
       "\t jul       & fri       & 13.220000 &  2.640    &  3        &  39.66   \\\\\n",
       "\t jul       & mon       & 70.040000 &  0.815    &  4        & 280.16   \\\\\n",
       "\t ... & ... & ... & ... & ... & ...\\\\\n",
       "\t jul        & wed        &  2.5766667 &  0.000     &  3         &    7.73   \\\\\n",
       "\t jun        & fri        &  0.3966667 &  0.000     &  3         &    1.19   \\\\\n",
       "\t jun        & mon        &  1.8200000 &  1.940     &  3         &    5.46   \\\\\n",
       "\t jun        & sat        & 35.1600000 & 35.160     &  2         &   70.32   \\\\\n",
       "\t jun        & sun        &  0.2250000 &  0.000     &  4         &    0.90   \\\\\n",
       "\t jun        & thu        &  6.6350000 &  6.635     &  2         &   13.27   \\\\\n",
       "\t jun        & wed        &  2.7200000 &  0.000     &  3         &    8.16   \\\\\n",
       "\t mar        & fri        &  0.9854545 &  0.000     & 11         &   10.84   \\\\\n",
       "\t mar        & mon        &  8.4950000 &  0.475     & 12         &  101.94   \\\\\n",
       "\t mar        & sat        &  8.0650000 &  0.970     & 10         &   80.65   \\\\\n",
       "\t mar        & sun        &  3.9328571 &  0.000     &  7         &   27.53   \\\\\n",
       "\t mar        & thu        &  1.7500000 &  0.000     &  5         &    8.75   \\\\\n",
       "\t mar        & tue        &  0.0000000 &  0.000     &  5         &    0.00   \\\\\n",
       "\t mar        & wed        &  1.3875000 &  0.000     &  4         &    5.55   \\\\\n",
       "\t may        & fri        & 38.4800000 & 38.480     &  1         &   38.48   \\\\\n",
       "\t may        & sat        &  0.0000000 &  0.000     &  1         &    0.00   \\\\\n",
       "\t nov        & tue        &  0.0000000 &  0.000     &  1         &    0.00   \\\\\n",
       "\t oct        & fri        &  0.0000000 &  0.000     &  1         &    0.00   \\\\\n",
       "\t oct        & mon        & 15.4100000 &  6.135     &  4         &   61.64   \\\\\n",
       "\t oct        & sat        &  8.0766667 &  0.000     &  3         &   24.23   \\\\\n",
       "\t oct        & sun        &  0.0000000 &  0.000     &  3         &    0.00   \\\\\n",
       "\t oct        & tue        &  0.0000000 &  0.000     &  2         &    0.00   \\\\\n",
       "\t oct        & wed        &  6.8500000 &  6.850     &  2         &   13.70   \\\\\n",
       "\t sep        & fri        &  5.2981579 &  1.175     & 38         &  201.33   \\\\\n",
       "\t sep        & mon        &  5.9225000 &  0.235     & 28         &  165.83   \\\\\n",
       "\t sep        & sat        & 61.8044000 &  1.460     & 25         & 1545.11   \\\\\n",
       "\t sep        & sun        & 14.0107407 &  0.410     & 27         &  378.29   \\\\\n",
       "\t sep        & thu        &  5.3561905 &  1.120     & 21         &  112.48   \\\\\n",
       "\t sep        & tue        & 26.3521053 &  2.930     & 19         &  500.69   \\\\\n",
       "\t sep        & wed        & 13.0285714 &  2.075     & 14         &  182.40   \\\\\n",
       "\\end{tabular}\n"
      ],
      "text/markdown": [
       "\n",
       "month | day | mean(area) | median(area) | length(area) | sum(area) | \n",
       "|---|---|---|---|---|---|---|---|---|---|---|---|---|---|---|---|---|---|---|---|---|---|---|---|---|---|---|---|---|---|---|---|---|---|---|---|---|---|---|---|---|---|---|---|---|---|---|---|---|---|---|---|---|---|---|---|---|---|---|---|---|\n",
       "| apr       | fri       |  0.000000 |  0.000    |  1        |   0.00    | \n",
       "| apr       | mon       |  3.350000 |  3.350    |  1        |   3.35    | \n",
       "| apr       | sat       |  0.000000 |  0.000    |  1        |   0.00    | \n",
       "| apr       | sun       | 20.376667 |  0.000    |  3        |  61.13    | \n",
       "| apr       | thu       |  7.770000 |  7.770    |  2        |  15.54    | \n",
       "| apr       | wed       |  0.000000 |  0.000    |  1        |   0.00    | \n",
       "| aug       | fri       |  5.600476 |  0.610    | 21        | 117.61    | \n",
       "| aug       | mon       |  1.187333 |  0.000    | 15        |  17.81    | \n",
       "| aug       | sat       | 14.054138 |  1.940    | 29        | 407.57    | \n",
       "| aug       | sun       |  9.866500 |  0.045    | 40        | 394.66    | \n",
       "| aug       | thu       | 32.198846 |  0.000    | 26        | 837.17    | \n",
       "| aug       | tue       |  6.228571 |  0.655    | 28        | 174.40    | \n",
       "| aug       | wed       | 13.950800 |  0.770    | 25        | 348.77    | \n",
       "| dec       | fri       |  9.270000 |  9.270    |  1        |   9.27    | \n",
       "| dec       | mon       | 15.095000 | 14.290    |  4        |  60.38    | \n",
       "| dec       | sun       |  8.980000 |  8.980    |  1        |   8.98    | \n",
       "| dec       | thu       |  5.380000 |  5.380    |  1        |   5.38    | \n",
       "| dec       | tue       | 24.770000 | 24.770    |  1        |  24.77    | \n",
       "| dec       | wed       | 11.190000 | 11.190    |  1        |  11.19    | \n",
       "| feb       | fri       |  5.772000 |  0.000    |  5        |  28.86    | \n",
       "| feb       | mon       |  3.320000 |  0.000    |  3        |   9.96    | \n",
       "| feb       | sat       |  1.710000 |  0.000    |  4        |   6.84    | \n",
       "| feb       | sun       | 17.802500 |  9.715    |  4        |  71.21    | \n",
       "| feb       | thu       |  0.000000 |  0.000    |  1        |   0.00    | \n",
       "| feb       | tue       |  3.765000 |  3.765    |  2        |   7.53    | \n",
       "| feb       | wed       |  1.100000 |  1.100    |  1        |   1.10    | \n",
       "| jan       | sat       |  0.000000 |  0.000    |  1        |   0.00    | \n",
       "| jan       | sun       |  0.000000 |  0.000    |  1        |   0.00    | \n",
       "| jul       | fri       | 13.220000 |  2.640    |  3        |  39.66    | \n",
       "| jul       | mon       | 70.040000 |  0.815    |  4        | 280.16    | \n",
       "| ... | ... | ... | ... | ... | ... | \n",
       "| jul        | wed        |  2.5766667 |  0.000     |  3         |    7.73    | \n",
       "| jun        | fri        |  0.3966667 |  0.000     |  3         |    1.19    | \n",
       "| jun        | mon        |  1.8200000 |  1.940     |  3         |    5.46    | \n",
       "| jun        | sat        | 35.1600000 | 35.160     |  2         |   70.32    | \n",
       "| jun        | sun        |  0.2250000 |  0.000     |  4         |    0.90    | \n",
       "| jun        | thu        |  6.6350000 |  6.635     |  2         |   13.27    | \n",
       "| jun        | wed        |  2.7200000 |  0.000     |  3         |    8.16    | \n",
       "| mar        | fri        |  0.9854545 |  0.000     | 11         |   10.84    | \n",
       "| mar        | mon        |  8.4950000 |  0.475     | 12         |  101.94    | \n",
       "| mar        | sat        |  8.0650000 |  0.970     | 10         |   80.65    | \n",
       "| mar        | sun        |  3.9328571 |  0.000     |  7         |   27.53    | \n",
       "| mar        | thu        |  1.7500000 |  0.000     |  5         |    8.75    | \n",
       "| mar        | tue        |  0.0000000 |  0.000     |  5         |    0.00    | \n",
       "| mar        | wed        |  1.3875000 |  0.000     |  4         |    5.55    | \n",
       "| may        | fri        | 38.4800000 | 38.480     |  1         |   38.48    | \n",
       "| may        | sat        |  0.0000000 |  0.000     |  1         |    0.00    | \n",
       "| nov        | tue        |  0.0000000 |  0.000     |  1         |    0.00    | \n",
       "| oct        | fri        |  0.0000000 |  0.000     |  1         |    0.00    | \n",
       "| oct        | mon        | 15.4100000 |  6.135     |  4         |   61.64    | \n",
       "| oct        | sat        |  8.0766667 |  0.000     |  3         |   24.23    | \n",
       "| oct        | sun        |  0.0000000 |  0.000     |  3         |    0.00    | \n",
       "| oct        | tue        |  0.0000000 |  0.000     |  2         |    0.00    | \n",
       "| oct        | wed        |  6.8500000 |  6.850     |  2         |   13.70    | \n",
       "| sep        | fri        |  5.2981579 |  1.175     | 38         |  201.33    | \n",
       "| sep        | mon        |  5.9225000 |  0.235     | 28         |  165.83    | \n",
       "| sep        | sat        | 61.8044000 |  1.460     | 25         | 1545.11    | \n",
       "| sep        | sun        | 14.0107407 |  0.410     | 27         |  378.29    | \n",
       "| sep        | thu        |  5.3561905 |  1.120     | 21         |  112.48    | \n",
       "| sep        | tue        | 26.3521053 |  2.930     | 19         |  500.69    | \n",
       "| sep        | wed        | 13.0285714 |  2.075     | 14         |  182.40    | \n",
       "\n",
       "\n"
      ],
      "text/plain": [
       "    month day mean(area) median(area) length(area) sum(area)\n",
       "1   apr   fri  0.000000   0.000        1             0.00   \n",
       "2   apr   mon  3.350000   3.350        1             3.35   \n",
       "3   apr   sat  0.000000   0.000        1             0.00   \n",
       "4   apr   sun 20.376667   0.000        3            61.13   \n",
       "5   apr   thu  7.770000   7.770        2            15.54   \n",
       "6   apr   wed  0.000000   0.000        1             0.00   \n",
       "7   aug   fri  5.600476   0.610       21           117.61   \n",
       "8   aug   mon  1.187333   0.000       15            17.81   \n",
       "9   aug   sat 14.054138   1.940       29           407.57   \n",
       "10  aug   sun  9.866500   0.045       40           394.66   \n",
       "11  aug   thu 32.198846   0.000       26           837.17   \n",
       "12  aug   tue  6.228571   0.655       28           174.40   \n",
       "13  aug   wed 13.950800   0.770       25           348.77   \n",
       "14  dec   fri  9.270000   9.270        1             9.27   \n",
       "15  dec   mon 15.095000  14.290        4            60.38   \n",
       "16  dec   sun  8.980000   8.980        1             8.98   \n",
       "17  dec   thu  5.380000   5.380        1             5.38   \n",
       "18  dec   tue 24.770000  24.770        1            24.77   \n",
       "19  dec   wed 11.190000  11.190        1            11.19   \n",
       "20  feb   fri  5.772000   0.000        5            28.86   \n",
       "21  feb   mon  3.320000   0.000        3             9.96   \n",
       "22  feb   sat  1.710000   0.000        4             6.84   \n",
       "23  feb   sun 17.802500   9.715        4            71.21   \n",
       "24  feb   thu  0.000000   0.000        1             0.00   \n",
       "25  feb   tue  3.765000   3.765        2             7.53   \n",
       "26  feb   wed  1.100000   1.100        1             1.10   \n",
       "27  jan   sat  0.000000   0.000        1             0.00   \n",
       "28  jan   sun  0.000000   0.000        1             0.00   \n",
       "29  jul   fri 13.220000   2.640        3            39.66   \n",
       "30  jul   mon 70.040000   0.815        4           280.16   \n",
       "... ...   ... ...        ...          ...          ...      \n",
       "35  jul   wed  2.5766667  0.000        3              7.73  \n",
       "36  jun   fri  0.3966667  0.000        3              1.19  \n",
       "37  jun   mon  1.8200000  1.940        3              5.46  \n",
       "38  jun   sat 35.1600000 35.160        2             70.32  \n",
       "39  jun   sun  0.2250000  0.000        4              0.90  \n",
       "40  jun   thu  6.6350000  6.635        2             13.27  \n",
       "41  jun   wed  2.7200000  0.000        3              8.16  \n",
       "42  mar   fri  0.9854545  0.000       11             10.84  \n",
       "43  mar   mon  8.4950000  0.475       12            101.94  \n",
       "44  mar   sat  8.0650000  0.970       10             80.65  \n",
       "45  mar   sun  3.9328571  0.000        7             27.53  \n",
       "46  mar   thu  1.7500000  0.000        5              8.75  \n",
       "47  mar   tue  0.0000000  0.000        5              0.00  \n",
       "48  mar   wed  1.3875000  0.000        4              5.55  \n",
       "49  may   fri 38.4800000 38.480        1             38.48  \n",
       "50  may   sat  0.0000000  0.000        1              0.00  \n",
       "51  nov   tue  0.0000000  0.000        1              0.00  \n",
       "52  oct   fri  0.0000000  0.000        1              0.00  \n",
       "53  oct   mon 15.4100000  6.135        4             61.64  \n",
       "54  oct   sat  8.0766667  0.000        3             24.23  \n",
       "55  oct   sun  0.0000000  0.000        3              0.00  \n",
       "56  oct   tue  0.0000000  0.000        2              0.00  \n",
       "57  oct   wed  6.8500000  6.850        2             13.70  \n",
       "58  sep   fri  5.2981579  1.175       38            201.33  \n",
       "59  sep   mon  5.9225000  0.235       28            165.83  \n",
       "60  sep   sat 61.8044000  1.460       25           1545.11  \n",
       "61  sep   sun 14.0107407  0.410       27            378.29  \n",
       "62  sep   thu  5.3561905  1.120       21            112.48  \n",
       "63  sep   tue 26.3521053  2.930       19            500.69  \n",
       "64  sep   wed 13.0285714  2.075       14            182.40  "
      ]
     },
     "metadata": {},
     "output_type": "display_data"
    }
   ],
   "source": [
    "fireData %>%\n",
    "    group_by_(.dots=c(\"month\", \"day\")) %>%\n",
    "    summarize(mean(area),\n",
    "    median(area), length(area), sum(area))\n"
   ]
  },
  {
   "cell_type": "code",
   "execution_count": 23,
   "metadata": {
    "collapsed": false
   },
   "outputs": [
    {
     "data": {
      "text/html": [
       "<table>\n",
       "<thead><tr><th scope=col>day</th><th scope=col>mean(area)</th><th scope=col>median(area)</th><th scope=col>length(area)</th><th scope=col>sum(area)</th></tr></thead>\n",
       "<tbody>\n",
       "\t<tr><td>fri      </td><td> 5.600476</td><td>0.610    </td><td>21       </td><td>117.61   </td></tr>\n",
       "\t<tr><td>mon      </td><td> 1.187333</td><td>0.000    </td><td>15       </td><td> 17.81   </td></tr>\n",
       "\t<tr><td>sat      </td><td>14.054138</td><td>1.940    </td><td>29       </td><td>407.57   </td></tr>\n",
       "\t<tr><td>sun      </td><td> 9.866500</td><td>0.045    </td><td>40       </td><td>394.66   </td></tr>\n",
       "\t<tr><td>thu      </td><td>32.198846</td><td>0.000    </td><td>26       </td><td>837.17   </td></tr>\n",
       "\t<tr><td>tue      </td><td> 6.228571</td><td>0.655    </td><td>28       </td><td>174.40   </td></tr>\n",
       "\t<tr><td>wed      </td><td>13.950800</td><td>0.770    </td><td>25       </td><td>348.77   </td></tr>\n",
       "</tbody>\n",
       "</table>\n"
      ],
      "text/latex": [
       "\\begin{tabular}{r|lllll}\n",
       " day & mean(area) & median(area) & length(area) & sum(area)\\\\\n",
       "\\hline\n",
       "\t fri       &  5.600476 & 0.610     & 21        & 117.61   \\\\\n",
       "\t mon       &  1.187333 & 0.000     & 15        &  17.81   \\\\\n",
       "\t sat       & 14.054138 & 1.940     & 29        & 407.57   \\\\\n",
       "\t sun       &  9.866500 & 0.045     & 40        & 394.66   \\\\\n",
       "\t thu       & 32.198846 & 0.000     & 26        & 837.17   \\\\\n",
       "\t tue       &  6.228571 & 0.655     & 28        & 174.40   \\\\\n",
       "\t wed       & 13.950800 & 0.770     & 25        & 348.77   \\\\\n",
       "\\end{tabular}\n"
      ],
      "text/markdown": [
       "\n",
       "day | mean(area) | median(area) | length(area) | sum(area) | \n",
       "|---|---|---|---|---|---|---|\n",
       "| fri       |  5.600476 | 0.610     | 21        | 117.61    | \n",
       "| mon       |  1.187333 | 0.000     | 15        |  17.81    | \n",
       "| sat       | 14.054138 | 1.940     | 29        | 407.57    | \n",
       "| sun       |  9.866500 | 0.045     | 40        | 394.66    | \n",
       "| thu       | 32.198846 | 0.000     | 26        | 837.17    | \n",
       "| tue       |  6.228571 | 0.655     | 28        | 174.40    | \n",
       "| wed       | 13.950800 | 0.770     | 25        | 348.77    | \n",
       "\n",
       "\n"
      ],
      "text/plain": [
       "  day mean(area) median(area) length(area) sum(area)\n",
       "1 fri  5.600476  0.610        21           117.61   \n",
       "2 mon  1.187333  0.000        15            17.81   \n",
       "3 sat 14.054138  1.940        29           407.57   \n",
       "4 sun  9.866500  0.045        40           394.66   \n",
       "5 thu 32.198846  0.000        26           837.17   \n",
       "6 tue  6.228571  0.655        28           174.40   \n",
       "7 wed 13.950800  0.770        25           348.77   "
      ]
     },
     "metadata": {},
     "output_type": "display_data"
    }
   ],
   "source": [
    "augFire <- fireData[fireData$month == 'aug', ]\n",
    "\n",
    "augFire %>%\n",
    "    group_by(day) %>%\n",
    "    summarize(mean(area),\n",
    "    median(area), length(area), sum(area))"
   ]
  },
  {
   "cell_type": "code",
   "execution_count": 22,
   "metadata": {
    "collapsed": false
   },
   "outputs": [
    {
     "data": {
      "text/html": [
       "<table>\n",
       "<thead><tr><th scope=col>day</th><th scope=col>mean(area)</th><th scope=col>median(area)</th><th scope=col>length(area)</th><th scope=col>sum(area)</th></tr></thead>\n",
       "<tbody>\n",
       "\t<tr><td>fri      </td><td> 5.298158</td><td>1.175    </td><td>38       </td><td> 201.33  </td></tr>\n",
       "\t<tr><td>mon      </td><td> 5.922500</td><td>0.235    </td><td>28       </td><td> 165.83  </td></tr>\n",
       "\t<tr><td>sat      </td><td>61.804400</td><td>1.460    </td><td>25       </td><td>1545.11  </td></tr>\n",
       "\t<tr><td>sun      </td><td>14.010741</td><td>0.410    </td><td>27       </td><td> 378.29  </td></tr>\n",
       "\t<tr><td>thu      </td><td> 5.356190</td><td>1.120    </td><td>21       </td><td> 112.48  </td></tr>\n",
       "\t<tr><td>tue      </td><td>26.352105</td><td>2.930    </td><td>19       </td><td> 500.69  </td></tr>\n",
       "\t<tr><td>wed      </td><td>13.028571</td><td>2.075    </td><td>14       </td><td> 182.40  </td></tr>\n",
       "</tbody>\n",
       "</table>\n"
      ],
      "text/latex": [
       "\\begin{tabular}{r|lllll}\n",
       " day & mean(area) & median(area) & length(area) & sum(area)\\\\\n",
       "\\hline\n",
       "\t fri       &  5.298158 & 1.175     & 38        &  201.33  \\\\\n",
       "\t mon       &  5.922500 & 0.235     & 28        &  165.83  \\\\\n",
       "\t sat       & 61.804400 & 1.460     & 25        & 1545.11  \\\\\n",
       "\t sun       & 14.010741 & 0.410     & 27        &  378.29  \\\\\n",
       "\t thu       &  5.356190 & 1.120     & 21        &  112.48  \\\\\n",
       "\t tue       & 26.352105 & 2.930     & 19        &  500.69  \\\\\n",
       "\t wed       & 13.028571 & 2.075     & 14        &  182.40  \\\\\n",
       "\\end{tabular}\n"
      ],
      "text/markdown": [
       "\n",
       "day | mean(area) | median(area) | length(area) | sum(area) | \n",
       "|---|---|---|---|---|---|---|\n",
       "| fri       |  5.298158 | 1.175     | 38        |  201.33   | \n",
       "| mon       |  5.922500 | 0.235     | 28        |  165.83   | \n",
       "| sat       | 61.804400 | 1.460     | 25        | 1545.11   | \n",
       "| sun       | 14.010741 | 0.410     | 27        |  378.29   | \n",
       "| thu       |  5.356190 | 1.120     | 21        |  112.48   | \n",
       "| tue       | 26.352105 | 2.930     | 19        |  500.69   | \n",
       "| wed       | 13.028571 | 2.075     | 14        |  182.40   | \n",
       "\n",
       "\n"
      ],
      "text/plain": [
       "  day mean(area) median(area) length(area) sum(area)\n",
       "1 fri  5.298158  1.175        38            201.33  \n",
       "2 mon  5.922500  0.235        28            165.83  \n",
       "3 sat 61.804400  1.460        25           1545.11  \n",
       "4 sun 14.010741  0.410        27            378.29  \n",
       "5 thu  5.356190  1.120        21            112.48  \n",
       "6 tue 26.352105  2.930        19            500.69  \n",
       "7 wed 13.028571  2.075        14            182.40  "
      ]
     },
     "metadata": {},
     "output_type": "display_data"
    }
   ],
   "source": [
    "sepFire <- fireData[fireData$month == 'sep', ]\n",
    "\n",
    "sepFire %>%\n",
    "    group_by(day) %>%\n",
    "    summarize(mean(area),\n",
    "    median(area), length(area), sum(area))"
   ]
  },
  {
   "cell_type": "code",
   "execution_count": 24,
   "metadata": {
    "collapsed": false
   },
   "outputs": [
    {
     "data": {
      "text/html": [
       "<table>\n",
       "<thead><tr><th scope=col>month</th><th scope=col>mean(rain)</th><th scope=col>median(rain)</th><th scope=col>length(rain)</th><th scope=col>sum(rain)</th></tr></thead>\n",
       "<tbody>\n",
       "\t<tr><td>apr        </td><td>0.000000000</td><td>0          </td><td>  9        </td><td> 0.0       </td></tr>\n",
       "\t<tr><td>aug        </td><td>0.058695652</td><td>0          </td><td>184        </td><td>10.8       </td></tr>\n",
       "\t<tr><td>dec        </td><td>0.000000000</td><td>0          </td><td>  9        </td><td> 0.0       </td></tr>\n",
       "\t<tr><td>feb        </td><td>0.000000000</td><td>0          </td><td> 20        </td><td> 0.0       </td></tr>\n",
       "\t<tr><td>jan        </td><td>0.000000000</td><td>0          </td><td>  2        </td><td> 0.0       </td></tr>\n",
       "\t<tr><td>jul        </td><td>0.006250000</td><td>0          </td><td> 32        </td><td> 0.2       </td></tr>\n",
       "\t<tr><td>jun        </td><td>0.000000000</td><td>0          </td><td> 17        </td><td> 0.0       </td></tr>\n",
       "\t<tr><td>mar        </td><td>0.003703704</td><td>0          </td><td> 54        </td><td> 0.2       </td></tr>\n",
       "\t<tr><td>may        </td><td>0.000000000</td><td>0          </td><td>  2        </td><td> 0.0       </td></tr>\n",
       "\t<tr><td>nov        </td><td>0.000000000</td><td>0          </td><td>  1        </td><td> 0.0       </td></tr>\n",
       "\t<tr><td>oct        </td><td>0.000000000</td><td>0          </td><td> 15        </td><td> 0.0       </td></tr>\n",
       "\t<tr><td>sep        </td><td>0.000000000</td><td>0          </td><td>172        </td><td> 0.0       </td></tr>\n",
       "</tbody>\n",
       "</table>\n"
      ],
      "text/latex": [
       "\\begin{tabular}{r|lllll}\n",
       " month & mean(rain) & median(rain) & length(rain) & sum(rain)\\\\\n",
       "\\hline\n",
       "\t apr         & 0.000000000 & 0           &   9         &  0.0       \\\\\n",
       "\t aug         & 0.058695652 & 0           & 184         & 10.8       \\\\\n",
       "\t dec         & 0.000000000 & 0           &   9         &  0.0       \\\\\n",
       "\t feb         & 0.000000000 & 0           &  20         &  0.0       \\\\\n",
       "\t jan         & 0.000000000 & 0           &   2         &  0.0       \\\\\n",
       "\t jul         & 0.006250000 & 0           &  32         &  0.2       \\\\\n",
       "\t jun         & 0.000000000 & 0           &  17         &  0.0       \\\\\n",
       "\t mar         & 0.003703704 & 0           &  54         &  0.2       \\\\\n",
       "\t may         & 0.000000000 & 0           &   2         &  0.0       \\\\\n",
       "\t nov         & 0.000000000 & 0           &   1         &  0.0       \\\\\n",
       "\t oct         & 0.000000000 & 0           &  15         &  0.0       \\\\\n",
       "\t sep         & 0.000000000 & 0           & 172         &  0.0       \\\\\n",
       "\\end{tabular}\n"
      ],
      "text/markdown": [
       "\n",
       "month | mean(rain) | median(rain) | length(rain) | sum(rain) | \n",
       "|---|---|---|---|---|---|---|---|---|---|---|---|\n",
       "| apr         | 0.000000000 | 0           |   9         |  0.0        | \n",
       "| aug         | 0.058695652 | 0           | 184         | 10.8        | \n",
       "| dec         | 0.000000000 | 0           |   9         |  0.0        | \n",
       "| feb         | 0.000000000 | 0           |  20         |  0.0        | \n",
       "| jan         | 0.000000000 | 0           |   2         |  0.0        | \n",
       "| jul         | 0.006250000 | 0           |  32         |  0.2        | \n",
       "| jun         | 0.000000000 | 0           |  17         |  0.0        | \n",
       "| mar         | 0.003703704 | 0           |  54         |  0.2        | \n",
       "| may         | 0.000000000 | 0           |   2         |  0.0        | \n",
       "| nov         | 0.000000000 | 0           |   1         |  0.0        | \n",
       "| oct         | 0.000000000 | 0           |  15         |  0.0        | \n",
       "| sep         | 0.000000000 | 0           | 172         |  0.0        | \n",
       "\n",
       "\n"
      ],
      "text/plain": [
       "   month mean(rain)  median(rain) length(rain) sum(rain)\n",
       "1  apr   0.000000000 0              9           0.0     \n",
       "2  aug   0.058695652 0            184          10.8     \n",
       "3  dec   0.000000000 0              9           0.0     \n",
       "4  feb   0.000000000 0             20           0.0     \n",
       "5  jan   0.000000000 0              2           0.0     \n",
       "6  jul   0.006250000 0             32           0.2     \n",
       "7  jun   0.000000000 0             17           0.0     \n",
       "8  mar   0.003703704 0             54           0.2     \n",
       "9  may   0.000000000 0              2           0.0     \n",
       "10 nov   0.000000000 0              1           0.0     \n",
       "11 oct   0.000000000 0             15           0.0     \n",
       "12 sep   0.000000000 0            172           0.0     "
      ]
     },
     "metadata": {},
     "output_type": "display_data"
    }
   ],
   "source": [
    "fireData %>%\n",
    "    group_by(month) %>%\n",
    "    summarize(mean(rain),\n",
    "    median(rain), length(rain), sum(rain))"
   ]
  },
  {
   "cell_type": "code",
   "execution_count": 25,
   "metadata": {
    "collapsed": false
   },
   "outputs": [
    {
     "data": {
      "text/html": [
       "<table>\n",
       "<thead><tr><th scope=col>day</th><th scope=col>mean(area)</th><th scope=col>median(area)</th><th scope=col>length(area)</th><th scope=col>sum(area)</th></tr></thead>\n",
       "<tbody>\n",
       "\t<tr><td>fri      </td><td> 5.261647</td><td>0.330    </td><td>85       </td><td> 447.24  </td></tr>\n",
       "\t<tr><td>mon      </td><td> 9.547703</td><td>0.745    </td><td>74       </td><td> 706.53  </td></tr>\n",
       "\t<tr><td>sat      </td><td>25.534048</td><td>0.340    </td><td>84       </td><td>2144.86  </td></tr>\n",
       "\t<tr><td>sun      </td><td>10.104526</td><td>0.000    </td><td>95       </td><td> 959.93  </td></tr>\n",
       "\t<tr><td>thu      </td><td>16.345902</td><td>0.900    </td><td>61       </td><td> 997.10  </td></tr>\n",
       "\t<tr><td>tue      </td><td>12.621719</td><td>0.655    </td><td>64       </td><td> 807.79  </td></tr>\n",
       "\t<tr><td>wed      </td><td>10.714815</td><td>0.760    </td><td>54       </td><td> 578.60  </td></tr>\n",
       "</tbody>\n",
       "</table>\n"
      ],
      "text/latex": [
       "\\begin{tabular}{r|lllll}\n",
       " day & mean(area) & median(area) & length(area) & sum(area)\\\\\n",
       "\\hline\n",
       "\t fri       &  5.261647 & 0.330     & 85        &  447.24  \\\\\n",
       "\t mon       &  9.547703 & 0.745     & 74        &  706.53  \\\\\n",
       "\t sat       & 25.534048 & 0.340     & 84        & 2144.86  \\\\\n",
       "\t sun       & 10.104526 & 0.000     & 95        &  959.93  \\\\\n",
       "\t thu       & 16.345902 & 0.900     & 61        &  997.10  \\\\\n",
       "\t tue       & 12.621719 & 0.655     & 64        &  807.79  \\\\\n",
       "\t wed       & 10.714815 & 0.760     & 54        &  578.60  \\\\\n",
       "\\end{tabular}\n"
      ],
      "text/markdown": [
       "\n",
       "day | mean(area) | median(area) | length(area) | sum(area) | \n",
       "|---|---|---|---|---|---|---|\n",
       "| fri       |  5.261647 | 0.330     | 85        |  447.24   | \n",
       "| mon       |  9.547703 | 0.745     | 74        |  706.53   | \n",
       "| sat       | 25.534048 | 0.340     | 84        | 2144.86   | \n",
       "| sun       | 10.104526 | 0.000     | 95        |  959.93   | \n",
       "| thu       | 16.345902 | 0.900     | 61        |  997.10   | \n",
       "| tue       | 12.621719 | 0.655     | 64        |  807.79   | \n",
       "| wed       | 10.714815 | 0.760     | 54        |  578.60   | \n",
       "\n",
       "\n"
      ],
      "text/plain": [
       "  day mean(area) median(area) length(area) sum(area)\n",
       "1 fri  5.261647  0.330        85            447.24  \n",
       "2 mon  9.547703  0.745        74            706.53  \n",
       "3 sat 25.534048  0.340        84           2144.86  \n",
       "4 sun 10.104526  0.000        95            959.93  \n",
       "5 thu 16.345902  0.900        61            997.10  \n",
       "6 tue 12.621719  0.655        64            807.79  \n",
       "7 wed 10.714815  0.760        54            578.60  "
      ]
     },
     "metadata": {},
     "output_type": "display_data"
    }
   ],
   "source": [
    "fireData %>%\n",
    "    group_by(day) %>%\n",
    "    summarize(mean(area),\n",
    "    median(area), length(area), sum(area))"
   ]
  },
  {
   "cell_type": "code",
   "execution_count": null,
   "metadata": {
    "collapsed": true
   },
   "outputs": [],
   "source": []
  }
 ],
 "metadata": {
  "kernelspec": {
   "display_name": "R",
   "language": "R",
   "name": "ir"
  },
  "language_info": {
   "codemirror_mode": "r",
   "file_extension": ".r",
   "mimetype": "text/x-r-source",
   "name": "R",
   "pygments_lexer": "r",
   "version": "3.5.1"
  }
 },
 "nbformat": 4,
 "nbformat_minor": 2
}
