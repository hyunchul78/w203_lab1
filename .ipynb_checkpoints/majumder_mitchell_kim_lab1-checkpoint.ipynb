{
 "cells": [
  {
   "cell_type": "markdown",
   "metadata": {},
   "source": [
    "# Forest Fire Exploratory Data Analysis\n",
    "Authors: Rishikesh Majumder, Jake Mitchell, and Peter Kim"
   ]
  },
  {
   "cell_type": "markdown",
   "metadata": {},
   "source": [
    "Packages Used:"
   ]
  },
  {
   "cell_type": "code",
   "execution_count": 164,
   "metadata": {},
   "outputs": [],
   "source": [
    "options(warn=-1)\n",
    "library(dplyr)\n",
    "library(ggplot2)\n",
    "library(GGally)\n",
    "library(ggcorrplot)\n",
    "library(ggpubr)\n",
    "library(car)\n",
    "require(gridExtra)"
   ]
  },
  {
   "cell_type": "markdown",
   "metadata": {},
   "source": [
    "### Note:\n",
    "If you are running this as a notebook, please run the bottom cell with the helper functions after the packages, and before running any graphs.  This was done to keep the code in the report as brief as possible."
   ]
  },
  {
   "cell_type": "markdown",
   "metadata": {},
   "source": [
    "## Introduction"
   ]
  },
  {
   "cell_type": "markdown",
   "metadata": {},
   "source": [
    "### Research Question"
   ]
  },
  {
   "cell_type": "markdown",
   "metadata": {},
   "source": [
    "In some areas, forest fires are a major environmental concern, endangering human lives and causing substantial economic damage.  We have been given some data on recent fires in a Portuguese park.  Our goal is to better understand what factors influence how severe a forest fire becomes."
   ]
  },
  {
   "cell_type": "markdown",
   "metadata": {},
   "source": [
    "### Load Data Set"
   ]
  },
  {
   "cell_type": "code",
   "execution_count": 165,
   "metadata": {
    "scrolled": false
   },
   "outputs": [],
   "source": [
    "#forestfire\n",
    "ff = read.csv(\"forestfires.csv\")"
   ]
  },
  {
   "cell_type": "markdown",
   "metadata": {},
   "source": [
    "### Data Description"
   ]
  },
  {
   "cell_type": "code",
   "execution_count": 166,
   "metadata": {
    "scrolled": false
   },
   "outputs": [
    {
     "data": {
      "text/html": [
       "517"
      ],
      "text/latex": [
       "517"
      ],
      "text/markdown": [
       "517"
      ],
      "text/plain": [
       "[1] 517"
      ]
     },
     "metadata": {},
     "output_type": "display_data"
    },
    {
     "data": {
      "text/html": [
       "<ol class=list-inline>\n",
       "\t<li>'X'</li>\n",
       "\t<li>'Y'</li>\n",
       "\t<li>'month'</li>\n",
       "\t<li>'day'</li>\n",
       "\t<li>'FFMC'</li>\n",
       "\t<li>'DMC'</li>\n",
       "\t<li>'DC'</li>\n",
       "\t<li>'ISI'</li>\n",
       "\t<li>'temp'</li>\n",
       "\t<li>'RH'</li>\n",
       "\t<li>'wind'</li>\n",
       "\t<li>'rain'</li>\n",
       "\t<li>'area'</li>\n",
       "</ol>\n"
      ],
      "text/latex": [
       "\\begin{enumerate*}\n",
       "\\item 'X'\n",
       "\\item 'Y'\n",
       "\\item 'month'\n",
       "\\item 'day'\n",
       "\\item 'FFMC'\n",
       "\\item 'DMC'\n",
       "\\item 'DC'\n",
       "\\item 'ISI'\n",
       "\\item 'temp'\n",
       "\\item 'RH'\n",
       "\\item 'wind'\n",
       "\\item 'rain'\n",
       "\\item 'area'\n",
       "\\end{enumerate*}\n"
      ],
      "text/markdown": [
       "1. 'X'\n",
       "2. 'Y'\n",
       "3. 'month'\n",
       "4. 'day'\n",
       "5. 'FFMC'\n",
       "6. 'DMC'\n",
       "7. 'DC'\n",
       "8. 'ISI'\n",
       "9. 'temp'\n",
       "10. 'RH'\n",
       "11. 'wind'\n",
       "12. 'rain'\n",
       "13. 'area'\n",
       "\n",
       "\n"
      ],
      "text/plain": [
       " [1] \"X\"     \"Y\"     \"month\" \"day\"   \"FFMC\"  \"DMC\"   \"DC\"    \"ISI\"   \"temp\" \n",
       "[10] \"RH\"    \"wind\"  \"rain\"  \"area\" "
      ]
     },
     "metadata": {},
     "output_type": "display_data"
    }
   ],
   "source": [
    "nrow(ff)\n",
    "names(ff)"
   ]
  },
  {
   "cell_type": "markdown",
   "metadata": {},
   "source": [
    "We see that there are 517 entries in our data set.  There are 13 variables:\n",
    "1. X - x-axis spatial coordinate within the Montesinho park map\n",
    "2. Y - y-axis spatial coordinate within the Montesinho park map\n",
    "3. month - month of the year: “jan” to “dec”\n",
    "4. day - day of the week: “mon” to “sun”\n",
    "5. FFMC - Fine Fuel Moisture Code from the FWI system\n",
    "6. DMC - Duff Moisture Code from the FWI system\n",
    "7. DC - Drought Code from the FWI system\n",
    "8. ISI - Initial Spread Index  from the FWI system\n",
    "9. temp - temperature in Celsius degrees\n",
    "10. RH - relative humidity in %\n",
    "11. wind - wind speed in km/h\n",
    "12. rain - outside rain in mm/m2\n",
    "13. area - the burned area of the forest (in hectares)"
   ]
  },
  {
   "cell_type": "markdown",
   "metadata": {},
   "source": [
    "### Data Quality"
   ]
  },
  {
   "cell_type": "markdown",
   "metadata": {},
   "source": [
    "First we can take a look at each of the 8 numerical variables to determine any odd trends."
   ]
  },
  {
   "cell_type": "code",
   "execution_count": 167,
   "metadata": {},
   "outputs": [
    {
     "data": {
      "text/plain": [
       "       X               Y           month      day          FFMC      \n",
       " Min.   :1.000   Min.   :2.0   aug    :184   fri:85   Min.   :18.70  \n",
       " 1st Qu.:3.000   1st Qu.:4.0   sep    :172   mon:74   1st Qu.:90.20  \n",
       " Median :4.000   Median :4.0   mar    : 54   sat:84   Median :91.60  \n",
       " Mean   :4.669   Mean   :4.3   jul    : 32   sun:95   Mean   :90.64  \n",
       " 3rd Qu.:7.000   3rd Qu.:5.0   feb    : 20   thu:61   3rd Qu.:92.90  \n",
       " Max.   :9.000   Max.   :9.0   jun    : 17   tue:64   Max.   :96.20  \n",
       "                               (Other): 38   wed:54                  \n",
       "      DMC              DC             ISI              temp      \n",
       " Min.   :  1.1   Min.   :  7.9   Min.   : 0.000   Min.   : 2.20  \n",
       " 1st Qu.: 68.6   1st Qu.:437.7   1st Qu.: 6.500   1st Qu.:15.50  \n",
       " Median :108.3   Median :664.2   Median : 8.400   Median :19.30  \n",
       " Mean   :110.9   Mean   :547.9   Mean   : 9.022   Mean   :18.89  \n",
       " 3rd Qu.:142.4   3rd Qu.:713.9   3rd Qu.:10.800   3rd Qu.:22.80  \n",
       " Max.   :291.3   Max.   :860.6   Max.   :56.100   Max.   :33.30  \n",
       "                                                                 \n",
       "       RH              wind            rain              area        \n",
       " Min.   : 15.00   Min.   :0.400   Min.   :0.00000   Min.   :   0.00  \n",
       " 1st Qu.: 33.00   1st Qu.:2.700   1st Qu.:0.00000   1st Qu.:   0.00  \n",
       " Median : 42.00   Median :4.000   Median :0.00000   Median :   0.52  \n",
       " Mean   : 44.29   Mean   :4.018   Mean   :0.02166   Mean   :  12.85  \n",
       " 3rd Qu.: 53.00   3rd Qu.:4.900   3rd Qu.:0.00000   3rd Qu.:   6.57  \n",
       " Max.   :100.00   Max.   :9.400   Max.   :6.40000   Max.   :1090.84  \n",
       "                                                                     "
      ]
     },
     "metadata": {},
     "output_type": "display_data"
    }
   ],
   "source": [
    "summary(ff)"
   ]
  },
  {
   "cell_type": "markdown",
   "metadata": {},
   "source": [
    "Luckily this data is fairly clean.  There are no missing values and everything can be converted into a numerical form as described later.  However area and rain appear to have an extremely large number of 0 values"
   ]
  },
  {
   "cell_type": "code",
   "execution_count": 168,
   "metadata": {},
   "outputs": [
    {
     "name": "stdout",
     "output_type": "stream",
     "text": [
      "[1] \"1.55 % of rain data is non 0.\"\n",
      "[1] \"52.22 % of area data is non 0.\"\n"
     ]
    }
   ],
   "source": [
    "print(paste(round(length(ff$rain[ff$rain>0]) /length(ff$rain) *100,2), \"% of rain data is non 0.\"))\n",
    "print(paste(round(length(ff$area[ff$area>0]) /length(ff$area) *100,2), \"% of area data is non 0.\"))"
   ]
  },
  {
   "cell_type": "markdown",
   "metadata": {},
   "source": [
    "Looking deeper into the rain and area statistics, we see that only 1.54% of the rain data and 52.22% of area data is non 0.  For rain this is not surprising, not many fires will occur or spread when rain occurs.  The number of 0 area fires is a problem however.  It may be due to a lack of precision in the area variable, or that a 0 area fire means something that we don't know.  This will cause issues later in the analysis considering the fact that area is our measure of how damaging a fire is.  \n",
    "\n",
    "Ultimately this data is not of the highest quality because our severity indicator, area, is very imbalanced.  The other statistics seem fine, and we will look closer at the rest of them later.  To get around the area data issue, we will assume fires with 0 area are extremely small and below the precision of the metric.  These may be fires around the size of a campsite, which would fall below our hundredths place accuracy. "
   ]
  },
  {
   "cell_type": "markdown",
   "metadata": {},
   "source": [
    "### Data Processing"
   ]
  },
  {
   "cell_type": "markdown",
   "metadata": {},
   "source": [
    "Taking the log of the area variable will also make visualizing the relationships between it and other variables easier later.  We can take the log of all of the area values.  This does have the unfortunate side effect of producing -Inf for all of the 0 area value rows however.  This will be dealt with by only using this logArea in situations where we know the area of fires is non 0, specifically by using the big/severe fire sets."
   ]
  },
  {
   "cell_type": "code",
   "execution_count": 169,
   "metadata": {},
   "outputs": [],
   "source": [
    "ff$logArea = log(ff$area)"
   ]
  },
  {
   "cell_type": "markdown",
   "metadata": {},
   "source": [
    "Converting month and day to non-numeric variables should help in accessing correlation between other key variables."
   ]
  },
  {
   "cell_type": "code",
   "execution_count": 170,
   "metadata": {},
   "outputs": [],
   "source": [
    "ff <- transform(ff, numMonth = ConvertMonthToNumber(month))\n",
    "ff <- transform(ff, numDay = ConvertDayToNumber(day))"
   ]
  },
  {
   "cell_type": "markdown",
   "metadata": {},
   "source": [
    "In order to combat the imbalanced area data, we will look at 4 levels of fires: all fires, non 0 fires, big fires, and severe fires.  First we need to find where to put the splits between general, big and severe fires.  "
   ]
  },
  {
   "cell_type": "code",
   "execution_count": 171,
   "metadata": {},
   "outputs": [
    {
     "name": "stdout",
     "output_type": "stream",
     "text": [
      "[1] \"There are 270 non 0 fires\"\n"
     ]
    },
    {
     "data": {
      "text/html": [
       "<strong>90%:</strong> 46.885"
      ],
      "text/latex": [
       "\\textbf{90\\textbackslash{}\\%:} 46.885"
      ],
      "text/markdown": [
       "**90%:** 46.885"
      ],
      "text/plain": [
       "   90% \n",
       "46.885 "
      ]
     },
     "metadata": {},
     "output_type": "display_data"
    },
    {
     "data": {
      "text/html": [
       "<strong>66%:</strong> 10.107"
      ],
      "text/latex": [
       "\\textbf{66\\textbackslash{}\\%:} 10.107"
      ],
      "text/markdown": [
       "**66%:** 10.107"
      ],
      "text/plain": [
       "   66% \n",
       "10.107 "
      ]
     },
     "metadata": {},
     "output_type": "display_data"
    }
   ],
   "source": [
    "#Non 0 fires\n",
    "nff = ff[ff$area>0,]\n",
    "print(paste(\"There are\", nrow(nff), \"non 0 fires\"))\n",
    "quantile(nff$area, .90)\n",
    "quantile(nff$area, .66)"
   ]
  },
  {
   "cell_type": "markdown",
   "metadata": {},
   "source": [
    "We see that we have 270 fires with a non 0 area.  If we assume the most severe fires to be the top 10% of non 0 area fires, that would correlate to fires with an area greater than around 45 hectares.  If we want to look at all significant fires, we can look at the top third, which would be fires over 10 hectares."
   ]
  },
  {
   "cell_type": "code",
   "execution_count": 172,
   "metadata": {},
   "outputs": [],
   "source": [
    "#big fires\n",
    "bff = ff[ff$area>10,]\n",
    "#severe fires\n",
    "sff = ff[ff$area>50,]"
   ]
  },
  {
   "cell_type": "markdown",
   "metadata": {},
   "source": [
    "## Univariate Analysis"
   ]
  },
  {
   "cell_type": "markdown",
   "metadata": {},
   "source": [
    "### Month"
   ]
  },
  {
   "cell_type": "code",
   "execution_count": 173,
   "metadata": {},
   "outputs": [
    {
     "data": {},
     "metadata": {},
     "output_type": "display_data"
    },
    {
     "data": {
      "image/png": "[encoded data removed]",
      "text/plain": [
       "plot without title"
      ]
     },
     "metadata": {},
     "output_type": "display_data"
    }
   ],
   "source": [
    "ggplot(data=ff, aes(numMonth)) +\n",
    "    geom_histogram(bins=12, fill=\"red\", color=\"black\") + \n",
    "    ggtitle(paste(\"Histogram of Month\")) + \n",
    "    scale_x_discrete(limits=GetMonthNames())"
   ]
  },
  {
   "cell_type": "markdown",
   "metadata": {},
   "source": [
    "The month data is not very well balanced.  There is a very large spike of fires in August and September.  The other months seem more even, with slight bumps in March and July."
   ]
  },
  {
   "cell_type": "markdown",
   "metadata": {},
   "source": [
    "### Day"
   ]
  },
  {
   "cell_type": "code",
   "execution_count": 174,
   "metadata": {
    "scrolled": false
   },
   "outputs": [
    {
     "data": {},
     "metadata": {},
     "output_type": "display_data"
    },
    {
     "data": {
      "image/png": "[encoded data removed]",
      "text/plain": [
       "plot without title"
      ]
     },
     "metadata": {},
     "output_type": "display_data"
    }
   ],
   "source": [
    "ggplot(data=ff, aes(numDay)) +\n",
    "    geom_histogram(bins=7, fill=\"red\", color=\"black\") + \n",
    "    ggtitle(paste(\"Histogram of Days\")) + \n",
    "    scale_x_discrete(limits=GetDayNames())"
   ]
  },
  {
   "cell_type": "markdown",
   "metadata": {},
   "source": [
    "The days of the week are fairly balanced.  We do see a slight spike of fires around the weekend, and a dip in the middle of the week.  This generally makes sense due to the fact that most fires in parks are caused by humans, who spend more time outdoors on the weekends."
   ]
  },
  {
   "cell_type": "markdown",
   "metadata": {},
   "source": [
    "### XY Coordinates"
   ]
  },
  {
   "cell_type": "markdown",
   "metadata": {},
   "source": [
    "When we take a look at the XY locations of the fires we notice something interesting.  All of the fires are grouped in the lower half of the park.  "
   ]
  },
  {
   "cell_type": "code",
   "execution_count": 175,
   "metadata": {
    "scrolled": false
   },
   "outputs": [
    {
     "data": {},
     "metadata": {},
     "output_type": "display_data"
    },
    {
     "data": {
      "image/png": "[encoded data removed]",
      "text/plain": [
       "plot without title"
      ]
     },
     "metadata": {},
     "output_type": "display_data"
    }
   ],
   "source": [
    "options(repr.plot.width=5, repr.plot.height=5)\n",
    "ggplot(ff, aes(x=X, y=Y)) + \n",
    "  geom_bin2d(bins=8) + \n",
    "  scale_fill_gradient(low= \"light yellow\", high=\"Red\") +\n",
    "  geom_rect(xmin=1, xmax=9, ymin=1.75, ymax=9.625, color=\"black\", fill=NA, size=2) +\n",
    "  ggtitle(\"Map of Park: Count of Fires by Location in Park\")"
   ]
  },
  {
   "cell_type": "markdown",
   "metadata": {},
   "source": [
    "This shows us that almost all of the fires have occured between (1,1) and (8,6), with very few exceptions.  If this correlates to N/S/E/W, then the southern half of the park is much more prone to fires than the rest of the park. "
   ]
  },
  {
   "cell_type": "markdown",
   "metadata": {},
   "source": [
    "### FFMC (Fine Fuel Moisture Code)"
   ]
  },
  {
   "cell_type": "code",
   "execution_count": 176,
   "metadata": {},
   "outputs": [
    {
     "data": {
      "text/plain": [
       "   Min. 1st Qu.  Median    Mean 3rd Qu.    Max. \n",
       "  18.70   90.20   91.60   90.64   92.90   96.20 "
      ]
     },
     "metadata": {},
     "output_type": "display_data"
    },
    {
     "data": {
      "text/html": [
       "5.52011084885127"
      ],
      "text/latex": [
       "5.52011084885127"
      ],
      "text/markdown": [
       "5.52011084885127"
      ],
      "text/plain": [
       "[1] 5.520111"
      ]
     },
     "metadata": {},
     "output_type": "display_data"
    }
   ],
   "source": [
    "summary(ff$FFMC)\n",
    "sd(ff$FFMC)"
   ]
  },
  {
   "cell_type": "markdown",
   "metadata": {},
   "source": [
    "What we notice from the summary is that the data is fairly compact, it only has a standard deviation of 5.5.  Unfortunately we don't know the units of this variable, but we can tell that most fires occur with a very high FFMC."
   ]
  },
  {
   "cell_type": "code",
   "execution_count": 177,
   "metadata": {},
   "outputs": [
    {
     "data": {},
     "metadata": {},
     "output_type": "display_data"
    },
    {
     "data": {
      "image/png": "[encoded data removed]",
      "text/plain": [
       "plot without title"
      ]
     },
     "metadata": {},
     "output_type": "display_data"
    }
   ],
   "source": [
    "FancyHist(ff, \"FFMC\")"
   ]
  },
  {
   "cell_type": "markdown",
   "metadata": {},
   "source": [
    "Looking at the histogram we confirm what we saw in the summary, the data is very heavily left skewed.  The outliers may be worth looking at later in relation to the area of a fire."
   ]
  },
  {
   "cell_type": "markdown",
   "metadata": {},
   "source": [
    "### DC (Drought Code)"
   ]
  },
  {
   "cell_type": "code",
   "execution_count": 178,
   "metadata": {},
   "outputs": [
    {
     "data": {
      "text/plain": [
       "   Min. 1st Qu.  Median    Mean 3rd Qu.    Max. \n",
       "    7.9   437.7   664.2   547.9   713.9   860.6 "
      ]
     },
     "metadata": {},
     "output_type": "display_data"
    },
    {
     "data": {
      "text/html": [
       "248.066191705844"
      ],
      "text/latex": [
       "248.066191705844"
      ],
      "text/markdown": [
       "248.066191705844"
      ],
      "text/plain": [
       "[1] 248.0662"
      ]
     },
     "metadata": {},
     "output_type": "display_data"
    }
   ],
   "source": [
    "summary(ff$DC)\n",
    "sd(ff$DC)"
   ]
  },
  {
   "cell_type": "markdown",
   "metadata": {},
   "source": [
    "Looking at the basic summary of the variable, we notice that it has an extremely large range but all the values seem useful.  There are no 0 or NA values."
   ]
  },
  {
   "cell_type": "code",
   "execution_count": 179,
   "metadata": {},
   "outputs": [
    {
     "data": {},
     "metadata": {},
     "output_type": "display_data"
    },
    {
     "data": {
      "image/png": "[encoded data removed]",
      "text/plain": [
       "plot without title"
      ]
     },
     "metadata": {},
     "output_type": "display_data"
    }
   ],
   "source": [
    "FancyHist(ff, \"DC\")"
   ]
  },
  {
   "cell_type": "markdown",
   "metadata": {},
   "source": [
    "Here we notice that the data is fairly bimodal, and has a decently size left skew.  It will be interesting to look into the different types of fires that each clump represents.  Splitting based on the mean could give us a decent grasp of that.  "
   ]
  },
  {
   "cell_type": "markdown",
   "metadata": {},
   "source": [
    "### DMC (Duff Moisture Code)"
   ]
  },
  {
   "cell_type": "code",
   "execution_count": 180,
   "metadata": {},
   "outputs": [
    {
     "data": {
      "text/plain": [
       "   Min. 1st Qu.  Median    Mean 3rd Qu.    Max. \n",
       "    1.1    68.6   108.3   110.9   142.4   291.3 "
      ]
     },
     "metadata": {},
     "output_type": "display_data"
    },
    {
     "data": {
      "text/html": [
       "64.0464822492543"
      ],
      "text/latex": [
       "64.0464822492543"
      ],
      "text/markdown": [
       "64.0464822492543"
      ],
      "text/plain": [
       "[1] 64.04648"
      ]
     },
     "metadata": {},
     "output_type": "display_data"
    }
   ],
   "source": [
    "summary(ff$DMC)\n",
    "sd(ff$DMC)"
   ]
  },
  {
   "cell_type": "markdown",
   "metadata": {},
   "source": [
    "First thing I notice is that there is a massive range in these values, from 1.1 to 291.3.  The mean is also at around 1/3 of the total range."
   ]
  },
  {
   "cell_type": "code",
   "execution_count": 181,
   "metadata": {
    "scrolled": false
   },
   "outputs": [
    {
     "data": {},
     "metadata": {},
     "output_type": "display_data"
    },
    {
     "data": {
      "image/png": "[encoded data removed]",
      "text/plain": [
       "plot without title"
      ]
     },
     "metadata": {},
     "output_type": "display_data"
    }
   ],
   "source": [
    "FancyHist(ff, \"DMC\")"
   ]
  },
  {
   "cell_type": "markdown",
   "metadata": {},
   "source": [
    "All things considered this looks like fairly well distributed data.  Yes there is a massive range, but there are no major outliers.  There is a very slight right skew.  Also there is a lot of granularity in the data as it goes down to the tenth."
   ]
  },
  {
   "cell_type": "markdown",
   "metadata": {},
   "source": [
    "### ISI (Initial Spread Index)"
   ]
  },
  {
   "cell_type": "code",
   "execution_count": 182,
   "metadata": {},
   "outputs": [
    {
     "data": {
      "text/plain": [
       "   Min. 1st Qu.  Median    Mean 3rd Qu.    Max. \n",
       "  0.000   6.500   8.400   9.022  10.800  56.100 "
      ]
     },
     "metadata": {},
     "output_type": "display_data"
    },
    {
     "data": {
      "text/html": [
       "4.55947717521604"
      ],
      "text/latex": [
       "4.55947717521604"
      ],
      "text/markdown": [
       "4.55947717521604"
      ],
      "text/plain": [
       "[1] 4.559477"
      ]
     },
     "metadata": {},
     "output_type": "display_data"
    }
   ],
   "source": [
    "summary(ff$ISI)\n",
    "sd(ff$ISI)"
   ]
  },
  {
   "cell_type": "markdown",
   "metadata": {},
   "source": [
    "<br>The ISI data seems fairly compact, but has an extremely high maximum.  We can use a histogram to take a loot at it."
   ]
  },
  {
   "cell_type": "code",
   "execution_count": 183,
   "metadata": {},
   "outputs": [
    {
     "data": {},
     "metadata": {},
     "output_type": "display_data"
    },
    {
     "data": {
      "image/png": "[encoded data removed]",
      "text/plain": [
       "plot without title"
      ]
     },
     "metadata": {},
     "output_type": "display_data"
    }
   ],
   "source": [
    "FancyHist(ff, \"ISI\")"
   ]
  },
  {
   "cell_type": "code",
   "execution_count": 184,
   "metadata": {},
   "outputs": [
    {
     "data": {
      "text/html": [
       "<table>\n",
       "<thead><tr><th></th><th scope=col>X</th><th scope=col>Y</th><th scope=col>month</th><th scope=col>day</th><th scope=col>FFMC</th><th scope=col>DMC</th><th scope=col>DC</th><th scope=col>ISI</th><th scope=col>temp</th><th scope=col>RH</th><th scope=col>wind</th><th scope=col>rain</th><th scope=col>area</th><th scope=col>logArea</th><th scope=col>numMonth</th><th scope=col>numDay</th></tr></thead>\n",
       "<tbody>\n",
       "\t<tr><th scope=row>23</th><td>7   </td><td>4   </td><td>jun </td><td>sun </td><td>94.3</td><td>96.3</td><td>200 </td><td>56.1</td><td>21  </td><td>44  </td><td>4.5 </td><td>0   </td><td>0   </td><td>-Inf</td><td>6   </td><td>7   </td></tr>\n",
       "</tbody>\n",
       "</table>\n"
      ],
      "text/latex": [
       "\\begin{tabular}{r|llllllllllllllll}\n",
       "  & X & Y & month & day & FFMC & DMC & DC & ISI & temp & RH & wind & rain & area & logArea & numMonth & numDay\\\\\n",
       "\\hline\n",
       "\t23 & 7    & 4    & jun  & sun  & 94.3 & 96.3 & 200  & 56.1 & 21   & 44   & 4.5  & 0    & 0    & -Inf & 6    & 7   \\\\\n",
       "\\end{tabular}\n"
      ],
      "text/markdown": [
       "\n",
       "| <!--/--> | X | Y | month | day | FFMC | DMC | DC | ISI | temp | RH | wind | rain | area | logArea | numMonth | numDay | \n",
       "|---|\n",
       "| 23 | 7    | 4    | jun  | sun  | 94.3 | 96.3 | 200  | 56.1 | 21   | 44   | 4.5  | 0    | 0    | -Inf | 6    | 7    | \n",
       "\n",
       "\n"
      ],
      "text/plain": [
       "   X Y month day FFMC DMC  DC  ISI  temp RH wind rain area logArea numMonth\n",
       "23 7 4 jun   sun 94.3 96.3 200 56.1 21   44 4.5  0    0    -Inf    6       \n",
       "   numDay\n",
       "23 7     "
      ]
     },
     "metadata": {},
     "output_type": "display_data"
    }
   ],
   "source": [
    "ff[which.max(ff$ISI),]"
   ]
  },
  {
   "cell_type": "markdown",
   "metadata": {},
   "source": [
    "There doesn't seem to be too much odd about this data point. The FFMC, DMC, and DC are in normal limits. The temp is barely elevated. The area is marked as 0 as well. The only thing remarkable about this point is the extremely high ISI. If I understand the Initial Spread Index correctly, this was a fire that spread extremely rapidly, but was put out before it grew at all.\n",
    "\n",
    "In anycase, ISI should behave well for later analysis with area."
   ]
  },
  {
   "cell_type": "markdown",
   "metadata": {},
   "source": [
    "### Temperature"
   ]
  },
  {
   "cell_type": "code",
   "execution_count": 185,
   "metadata": {},
   "outputs": [
    {
     "data": {
      "text/plain": [
       "   Min. 1st Qu.  Median    Mean 3rd Qu.    Max. \n",
       "   2.20   15.50   19.30   18.89   22.80   33.30 "
      ]
     },
     "metadata": {},
     "output_type": "display_data"
    },
    {
     "data": {
      "text/html": [
       "5.8066253495735"
      ],
      "text/latex": [
       "5.8066253495735"
      ],
      "text/markdown": [
       "5.8066253495735"
      ],
      "text/plain": [
       "[1] 5.806625"
      ]
     },
     "metadata": {},
     "output_type": "display_data"
    }
   ],
   "source": [
    "summary(ff$temp)\n",
    "sd(ff$temp)"
   ]
  },
  {
   "cell_type": "markdown",
   "metadata": {},
   "source": [
    "Seems like a decent range, although it covers almost every temperature from 100\\*F to freezing."
   ]
  },
  {
   "cell_type": "code",
   "execution_count": 186,
   "metadata": {},
   "outputs": [
    {
     "data": {},
     "metadata": {},
     "output_type": "display_data"
    },
    {
     "data": {
      "image/png": "[encoded data removed]",
      "text/plain": [
       "plot without title"
      ]
     },
     "metadata": {},
     "output_type": "display_data"
    }
   ],
   "source": [
    "FancyHist(ff, \"temp\")"
   ]
  },
  {
   "cell_type": "markdown",
   "metadata": {},
   "source": [
    "This data is remarkably well distribued, with the average just slightly below room temperature."
   ]
  },
  {
   "cell_type": "markdown",
   "metadata": {},
   "source": [
    "### Relative Humidity"
   ]
  },
  {
   "cell_type": "code",
   "execution_count": 187,
   "metadata": {},
   "outputs": [
    {
     "data": {
      "text/plain": [
       "   Min. 1st Qu.  Median    Mean 3rd Qu.    Max. \n",
       "  15.00   33.00   42.00   44.29   53.00  100.00 "
      ]
     },
     "metadata": {},
     "output_type": "display_data"
    },
    {
     "data": {
      "text/html": [
       "16.3174692393784"
      ],
      "text/latex": [
       "16.3174692393784"
      ],
      "text/markdown": [
       "16.3174692393784"
      ],
      "text/plain": [
       "[1] 16.31747"
      ]
     },
     "metadata": {},
     "output_type": "display_data"
    }
   ],
   "source": [
    "summary(ff$RH)\n",
    "sd(ff$RH)"
   ]
  },
  {
   "cell_type": "markdown",
   "metadata": {},
   "source": [
    "RH data has good range from 15-100 and median/mean is almost at the same spot. The the plot looks slightly right skewed, but at this moment a transformation is not necessary."
   ]
  },
  {
   "cell_type": "code",
   "execution_count": 188,
   "metadata": {},
   "outputs": [
    {
     "data": {},
     "metadata": {},
     "output_type": "display_data"
    },
    {
     "data": {
      "image/png": "[encoded data removed]",
      "text/plain": [
       "plot without title"
      ]
     },
     "metadata": {},
     "output_type": "display_data"
    }
   ],
   "source": [
    "FancyHist(ff, \"RH\")"
   ]
  },
  {
   "cell_type": "markdown",
   "metadata": {},
   "source": [
    "### Wind"
   ]
  },
  {
   "cell_type": "code",
   "execution_count": 189,
   "metadata": {},
   "outputs": [
    {
     "data": {
      "text/plain": [
       "   Min. 1st Qu.  Median    Mean 3rd Qu.    Max. \n",
       "  0.400   2.700   4.000   4.018   4.900   9.400 "
      ]
     },
     "metadata": {},
     "output_type": "display_data"
    },
    {
     "data": {
      "text/html": [
       "1.79165260094646"
      ],
      "text/latex": [
       "1.79165260094646"
      ],
      "text/markdown": [
       "1.79165260094646"
      ],
      "text/plain": [
       "[1] 1.791653"
      ]
     },
     "metadata": {},
     "output_type": "display_data"
    }
   ],
   "source": [
    "summary(ff$wind)\n",
    "sd(ff$wind)"
   ]
  },
  {
   "cell_type": "markdown",
   "metadata": {},
   "source": [
    "The wind data is unimodal and no strong skewness. "
   ]
  },
  {
   "cell_type": "code",
   "execution_count": 190,
   "metadata": {},
   "outputs": [
    {
     "data": {},
     "metadata": {},
     "output_type": "display_data"
    },
    {
     "data": {
      "image/png": "[encoded data removed]",
      "text/plain": [
       "plot without title"
      ]
     },
     "metadata": {},
     "output_type": "display_data"
    }
   ],
   "source": [
    "FancyHist(ff, \"wind\")"
   ]
  },
  {
   "cell_type": "markdown",
   "metadata": {},
   "source": [
    "### Rain"
   ]
  },
  {
   "cell_type": "code",
   "execution_count": 191,
   "metadata": {},
   "outputs": [
    {
     "data": {
      "text/plain": [
       "   Min. 1st Qu.  Median    Mean 3rd Qu.    Max. \n",
       "0.00000 0.00000 0.00000 0.02166 0.00000 6.40000 "
      ]
     },
     "metadata": {},
     "output_type": "display_data"
    },
    {
     "data": {
      "text/html": [
       "0.295959120890894"
      ],
      "text/latex": [
       "0.295959120890894"
      ],
      "text/markdown": [
       "0.295959120890894"
      ],
      "text/plain": [
       "[1] 0.2959591"
      ]
     },
     "metadata": {},
     "output_type": "display_data"
    }
   ],
   "source": [
    "summary(ff$rain)\n",
    "sd(ff$rain)"
   ]
  },
  {
   "cell_type": "markdown",
   "metadata": {},
   "source": [
    "As discussed above, the quality of rain data may not be helpful because most of the cases have zero values."
   ]
  },
  {
   "cell_type": "code",
   "execution_count": 192,
   "metadata": {},
   "outputs": [
    {
     "data": {},
     "metadata": {},
     "output_type": "display_data"
    },
    {
     "data": {
      "image/png": "[encoded data removed]",
      "text/plain": [
       "plot without title"
      ]
     },
     "metadata": {},
     "output_type": "display_data"
    }
   ],
   "source": [
    "FancyHist(ff, \"rain\")"
   ]
  },
  {
   "cell_type": "markdown",
   "metadata": {},
   "source": [
    "## Key Relationships"
   ]
  },
  {
   "cell_type": "markdown",
   "metadata": {},
   "source": [
    "When looking at how each of the variable effect the area of a fire, we found that the 0 area fires played havoc with any relationships there might be.  Therefore most of our analysis was done on big fires, ones with areas greater than 10 hectares.  This seemed to produce much better results.\n",
    "\n",
    "To help the readers navigate the report, we broke the variables into three groups based on how strong their effect on a fire's severity is.  The major effect group contains the XY coordinate, month, temperature, relative humidity, and fine fuel moisture code.  The minor effect group contains the "
   ]
  },
  {
   "cell_type": "code",
   "execution_count": 193,
   "metadata": {},
   "outputs": [
    {
     "data": {},
     "metadata": {},
     "output_type": "display_data"
    },
    {
     "data": {
      "image/png": "[encoded data removed]",
      "text/plain": [
       "plot without title"
      ]
     },
     "metadata": {},
     "output_type": "display_data"
    }
   ],
   "source": [
    "smoothing_method = \"glm\"\n",
    "options(repr.plot.width=7, repr.plot.height=7)\n",
    "ggscatmat(bff[,c('area', 'numMonth', 'numDay', 'FFMC', 'DMC', 'DC', 'ISI', 'temp', 'RH', 'wind', 'rain')], alpha=0.8) +\n",
    "geom_smooth(method=smoothing_method)"
   ]
  },
  {
   "cell_type": "markdown",
   "metadata": {},
   "source": [
    "Here is a master matrix of all of the variables.  There are a few important things to look at here.  First, looking at all of the correlation values with the area of a fire we notice that they are all quite low.  Also remember that temperature, DMC, DC, and FFMC all have high correlation with each other and the other variables."
   ]
  },
  {
   "cell_type": "markdown",
   "metadata": {},
   "source": [
    "## Major Area Relationships"
   ]
  },
  {
   "cell_type": "markdown",
   "metadata": {},
   "source": [
    "### Month"
   ]
  },
  {
   "cell_type": "markdown",
   "metadata": {},
   "source": [
    "# _TODO_"
   ]
  },
  {
   "cell_type": "markdown",
   "metadata": {},
   "source": [
    "### XY Coordinates"
   ]
  },
  {
   "cell_type": "markdown",
   "metadata": {},
   "source": [
    "While looking at the count of fires that appear at all locations is helpful, in order to see what coordinates lead to big fires we need to look at the sizes of these fires.  Just the count tells us where they have happened before and tells us that we will have better predicting powers in the bottom half of the park, but does not help us predict where the next big one might be."
   ]
  },
  {
   "cell_type": "code",
   "execution_count": 194,
   "metadata": {
    "scrolled": true
   },
   "outputs": [],
   "source": [
    "ffXYgroup = bff %>%\n",
    "    group_by(X, Y) %>%\n",
    "    summarize(logMeanArea = log(mean(area)), meanArea = mean(area), medianArea = median(area), count = length(area), totalArea = sum(area), maxArea = max(area))\n",
    "ffXYgroup[ffXYgroup==-Inf] <- 0"
   ]
  },
  {
   "cell_type": "code",
   "execution_count": 195,
   "metadata": {},
   "outputs": [
    {
     "data": {},
     "metadata": {},
     "output_type": "display_data"
    },
    {
     "data": {
      "image/png": "[encoded data removed]",
      "text/plain": [
       "plot without title"
      ]
     },
     "metadata": {},
     "output_type": "display_data"
    }
   ],
   "source": [
    "jet.colors <- colorRampPalette(c(\"#00007F\", \"blue\", \"#007FFF\", \"cyan\", \"#7FFF7F\", \"yellow\", \"#FF7F00\", \"orange\", \"#dd4b02\", \"red\", \"#7F0000\"))\n",
    "options(repr.plot.width=8, repr.plot.height=7.5)\n",
    "\n",
    "ggplot(ffXYgroup, aes(X, Y, density = logMeanArea)) + \n",
    "  stat_density_2d(geom=\"tile\", aes(fill=..density.., alpha=sqrt(..density..)), contour=FALSE, n=200) + \n",
    "  scale_alpha(range = c(0.1, 1.0)) + \n",
    "  scale_fill_gradientn(colours = jet.colors(10)) + \n",
    "  geom_rect(xmin=1, xmax=9, ymin=2, ymax=9, color=\"black\", fill=NA, size=2) + \n",
    "  ggtitle(\"Map of Park: Mean Area of Fires by Location\")"
   ]
  },
  {
   "cell_type": "markdown",
   "metadata": {},
   "source": [
    "Finally once we apply some smoothing and coloring functions to the data we end up with a heatmap of the park that shows where the largest fires are most likely to occur.  It appears that if fires occur around (6,4) they are the most likely to become severe.  This is something that could be worked into a fire severity prediction model."
   ]
  },
  {
   "cell_type": "markdown",
   "metadata": {},
   "source": [
    "### Bivariate Data Processing"
   ]
  },
  {
   "cell_type": "markdown",
   "metadata": {},
   "source": [
    "While working on analysing the other variable's effect on area we discovered that the noise in the data was throwing off a lot of the analysis.  We came up with a process to reduce the noise in the data and produce more accurate results.  The goal of this processing is to see what are the largest fires each variable produces.  We will show both methods to help the analysis."
   ]
  },
  {
   "cell_type": "markdown",
   "metadata": {},
   "source": [
    "<center>![title](dataprocess.png)</center>"
   ]
  },
  {
   "cell_type": "markdown",
   "metadata": {},
   "source": [
    "### Temperature"
   ]
  },
  {
   "cell_type": "code",
   "execution_count": 211,
   "metadata": {
    "scrolled": false
   },
   "outputs": [
    {
     "data": {
      "text/html": [
       "0.2539216294842"
      ],
      "text/latex": [
       "0.2539216294842"
      ],
      "text/markdown": [
       "0.2539216294842"
      ],
      "text/plain": [
       "[1] 0.2539216"
      ]
     },
     "metadata": {},
     "output_type": "display_data"
    },
    {
     "data": {
      "text/html": [
       "0.46978313433229"
      ],
      "text/latex": [
       "0.46978313433229"
      ],
      "text/markdown": [
       "0.46978313433229"
      ],
      "text/plain": [
       "[1] 0.4697831"
      ]
     },
     "metadata": {},
     "output_type": "display_data"
    },
    {
     "data": {
      "image/png": "[encoded data removed]",
      "text/plain": [
       "plot without title"
      ]
     },
     "metadata": {},
     "output_type": "display_data"
    }
   ],
   "source": [
    "pbff = bff %>%\n",
    "        mutate(temp = round(temp, 0)) %>%\n",
    "        group_by(temp) %>%\n",
    "        summarize(maxArea = max(logArea))\n",
    "\n",
    "options(repr.plot.width=7, repr.plot.height=3)\n",
    "plot1 = ggplot(data=bff, aes(temp, logArea)) + geom_point() + geom_smooth(method=smoothing_method)\n",
    "plot2 = ggplot(data=pbff, aes(temp, maxArea)) + geom_point() + geom_smooth(method=smoothing_method)\n",
    "grid.arrange(plot1, plot2, nrow=1)\n",
    "cor(bff$logArea, bff$temp)\n",
    "cor(pbff$maxArea, pbff$temp)"
   ]
  },
  {
   "cell_type": "markdown",
   "metadata": {},
   "source": [
    "As we can see from the correlation and trend lines between the area of fires and the temperature that they occur, there is a strong relationship here.  After we apply the processing to focus on what temperatures have created the largest fires, we see that temperature actually has an even larger effect in how large a fire can get.  This is one of the highest correlation values we found in the entire data set.  We are searching for what causes the biggest fires, and higher temperatures definitely cause much larger fires."
   ]
  },
  {
   "cell_type": "markdown",
   "metadata": {},
   "source": [
    "### FFMC (Fine Fuel Moisture Code)"
   ]
  },
  {
   "cell_type": "code",
   "execution_count": 217,
   "metadata": {},
   "outputs": [
    {
     "data": {
      "text/html": [
       "0.160223639917317"
      ],
      "text/latex": [
       "0.160223639917317"
      ],
      "text/markdown": [
       "0.160223639917317"
      ],
      "text/plain": [
       "[1] 0.1602236"
      ]
     },
     "metadata": {},
     "output_type": "display_data"
    },
    {
     "data": {
      "text/html": [
       "0.337573694313941"
      ],
      "text/latex": [
       "0.337573694313941"
      ],
      "text/markdown": [
       "0.337573694313941"
      ],
      "text/plain": [
       "[1] 0.3375737"
      ]
     },
     "metadata": {},
     "output_type": "display_data"
    },
    {
     "data": {
      "image/png": "[encoded data removed]",
      "text/plain": [
       "plot without title"
      ]
     },
     "metadata": {},
     "output_type": "display_data"
    }
   ],
   "source": [
    "pbff = bff %>%\n",
    "        mutate(FFMC = round(FFMC/0.25)*0.25) %>%\n",
    "        group_by(FFMC) %>%\n",
    "        summarize(maxArea = max(logArea))\n",
    "\n",
    "options(repr.plot.width=7, repr.plot.height=3)\n",
    "plot1 = ggplot(data=bff, aes(FFMC, logArea)) + geom_point() + geom_smooth(method=smoothing_method) + xlim(85,96)\n",
    "plot2 = ggplot(data=pbff, aes(FFMC, maxArea)) + geom_point() + geom_smooth(method=smoothing_method) + xlim(85,96)\n",
    "grid.arrange(plot1, plot2, nrow=1)\n",
    "cor(bff$logArea, bff$FFMC)\n",
    "cor(pbff$maxArea, pbff$FFMC)"
   ]
  },
  {
   "cell_type": "markdown",
   "metadata": {},
   "source": [
    "The Fine Fuel Moisture Code has a decent effect on the area of a fire.  We will use a group rounding of 0.25 due to the smaller range of FFMC values.  Once we apply the max of group processing we notice that higher Fine Fuel Moisture Codes do produce larger fire.  One caveat to that however, is that increasing the Fine Fuel Moisture Code seems to make the size of fires more varied.  Larger fires occur more with high FFMc, but a high FFMC does not guarentee a large fire."
   ]
  },
  {
   "cell_type": "markdown",
   "metadata": {},
   "source": [
    "### Relative Humidity"
   ]
  },
  {
   "cell_type": "code",
   "execution_count": 198,
   "metadata": {},
   "outputs": [
    {
     "data": {
      "text/html": [
       "-0.14508628678185"
      ],
      "text/latex": [
       "-0.14508628678185"
      ],
      "text/markdown": [
       "-0.14508628678185"
      ],
      "text/plain": [
       "[1] -0.1450863"
      ]
     },
     "metadata": {},
     "output_type": "display_data"
    },
    {
     "data": {
      "text/html": [
       "-0.298476184767561"
      ],
      "text/latex": [
       "-0.298476184767561"
      ],
      "text/markdown": [
       "-0.298476184767561"
      ],
      "text/plain": [
       "[1] -0.2984762"
      ]
     },
     "metadata": {},
     "output_type": "display_data"
    },
    {
     "data": {
      "image/png": "[encoded data removed]",
      "text/plain": [
       "plot without title"
      ]
     },
     "metadata": {},
     "output_type": "display_data"
    }
   ],
   "source": [
    "pbff = bff %>%\n",
    "        mutate(RH = round(RH, 0)) %>%\n",
    "        group_by(RH) %>%\n",
    "        summarize(maxArea = max(logArea))\n",
    "\n",
    "options(repr.plot.width=7, repr.plot.height=3)\n",
    "plot1 = ggplot(data=bff, aes(RH, logArea)) + geom_point() + geom_smooth(method=smoothing_method)\n",
    "plot2 = ggplot(data=pbff, aes(RH, maxArea)) + geom_point() + geom_smooth(method=smoothing_method)\n",
    "grid.arrange(plot1, plot2, nrow=1)\n",
    "cor(bff$logArea, bff$RH)\n",
    "cor(pbff$maxArea, pbff$RH)"
   ]
  },
  {
   "cell_type": "markdown",
   "metadata": {},
   "source": [
    "The interaction between the area of a fire and the relative Humidity is acutally on of our few negative correlation values.  This means that as the relative humidity increases, the area of fires that may occur decreases.  The processing doesn't change the correlation of RH and area as much as some of the other variables.  This signals that the relative humitidy that a fire occurs at has as much effect on the mean size of fires as it does on the maximum size of fires."
   ]
  },
  {
   "cell_type": "markdown",
   "metadata": {},
   "source": [
    "## Minor Area Relationships"
   ]
  },
  {
   "cell_type": "markdown",
   "metadata": {},
   "source": [
    "### DC (Drought Code)"
   ]
  },
  {
   "cell_type": "code",
   "execution_count": 199,
   "metadata": {},
   "outputs": [
    {
     "data": {
      "text/html": [
       "0.0710719719268991"
      ],
      "text/latex": [
       "0.0710719719268991"
      ],
      "text/markdown": [
       "0.0710719719268991"
      ],
      "text/plain": [
       "[1] 0.07107197"
      ]
     },
     "metadata": {},
     "output_type": "display_data"
    },
    {
     "data": {
      "text/html": [
       "0.117300775525058"
      ],
      "text/latex": [
       "0.117300775525058"
      ],
      "text/markdown": [
       "0.117300775525058"
      ],
      "text/plain": [
       "[1] 0.1173008"
      ]
     },
     "metadata": {},
     "output_type": "display_data"
    },
    {
     "data": {
      "image/png": "[encoded data removed]",
      "text/plain": [
       "plot without title"
      ]
     },
     "metadata": {},
     "output_type": "display_data"
    }
   ],
   "source": [
    "pbff = bff %>%\n",
    "        mutate(DC = round(DC, 0)) %>%\n",
    "        group_by(DC) %>%\n",
    "        summarize(maxArea = max(logArea))\n",
    "\n",
    "options(repr.plot.width=7, repr.plot.height=3)\n",
    "plot1 = ggplot(data=bff, aes(DC, logArea)) + geom_point() + geom_smooth(method=smoothing_method)\n",
    "plot2 = ggplot(data=pbff, aes(DC, maxArea)) + geom_point() + geom_smooth(method=smoothing_method)\n",
    "grid.arrange(plot1, plot2, nrow=1)\n",
    "cor(bff$logArea, bff$DC)\n",
    "cor(pbff$maxArea, pbff$DC)"
   ]
  },
  {
   "cell_type": "markdown",
   "metadata": {},
   "source": [
    "The Drought Code has some effect on the area of a fire.  A higher Drought Code correlates to a larger fire.  This isn't a very strong relationship, but it is enough to be considered when predicting the size of a fire."
   ]
  },
  {
   "cell_type": "markdown",
   "metadata": {},
   "source": [
    "### DMC (Duff Moisture Code)"
   ]
  },
  {
   "cell_type": "code",
   "execution_count": 200,
   "metadata": {
    "scrolled": false
   },
   "outputs": [
    {
     "data": {
      "text/html": [
       "0.150646123517584"
      ],
      "text/latex": [
       "0.150646123517584"
      ],
      "text/markdown": [
       "0.150646123517584"
      ],
      "text/plain": [
       "[1] 0.1506461"
      ]
     },
     "metadata": {},
     "output_type": "display_data"
    },
    {
     "data": {
      "text/html": [
       "0.143357195005322"
      ],
      "text/latex": [
       "0.143357195005322"
      ],
      "text/markdown": [
       "0.143357195005322"
      ],
      "text/plain": [
       "[1] 0.1433572"
      ]
     },
     "metadata": {},
     "output_type": "display_data"
    },
    {
     "data": {
      "image/png": "[encoded data removed]",
      "text/plain": [
       "plot without title"
      ]
     },
     "metadata": {},
     "output_type": "display_data"
    }
   ],
   "source": [
    "pbff = bff %>%\n",
    "        mutate(DMC = round(DMC, 0)) %>%\n",
    "        group_by(DMC) %>%\n",
    "        summarize(maxArea = max(logArea))\n",
    "\n",
    "options(repr.plot.width=7, repr.plot.height=3)\n",
    "plot1 = ggplot(data=bff, aes(DMC, logArea)) + geom_point() + geom_smooth(method=smoothing_method)\n",
    "plot2 = ggplot(data=pbff, aes(DMC, maxArea)) + geom_point() + geom_smooth(method=smoothing_method)\n",
    "grid.arrange(plot1, plot2, nrow=1)\n",
    "cor(bff$logArea, bff$DMC)\n",
    "cor(pbff$maxArea, pbff$DMC)"
   ]
  },
  {
   "cell_type": "markdown",
   "metadata": {},
   "source": [
    "The Duff Moisture Code has a small relationship with the area of a fire. Fire size is semi consistent across all values of DMC, but larger fires do trend towards the higher side of DMC.  It also has consistent correlation between all the data and the processed data.  This signifies that DMC's effect is present in all fires, not just the largest ones."
   ]
  },
  {
   "cell_type": "markdown",
   "metadata": {},
   "source": [
    "### Wind"
   ]
  },
  {
   "cell_type": "code",
   "execution_count": 218,
   "metadata": {},
   "outputs": [
    {
     "data": {
      "text/html": [
       "-0.0939182025062683"
      ],
      "text/latex": [
       "-0.0939182025062683"
      ],
      "text/markdown": [
       "-0.0939182025062683"
      ],
      "text/plain": [
       "[1] -0.0939182"
      ]
     },
     "metadata": {},
     "output_type": "display_data"
    },
    {
     "data": {
      "text/html": [
       "-0.240402576286898"
      ],
      "text/latex": [
       "-0.240402576286898"
      ],
      "text/markdown": [
       "-0.240402576286898"
      ],
      "text/plain": [
       "[1] -0.2404026"
      ]
     },
     "metadata": {},
     "output_type": "display_data"
    },
    {
     "data": {
      "image/png": "[encoded data removed]",
      "text/plain": [
       "plot without title"
      ]
     },
     "metadata": {},
     "output_type": "display_data"
    }
   ],
   "source": [
    "pbff = bff %>%\n",
    "        mutate(wind = round(wind, 2)) %>%\n",
    "        group_by(wind) %>%\n",
    "        summarize(maxArea = max(logArea))\n",
    "\n",
    "options(repr.plot.width=7, repr.plot.height=3)\n",
    "plot1 = ggplot(data=bff, aes(wind, logArea)) + geom_point() + geom_smooth(method=smoothing_method)\n",
    "plot2 = ggplot(data=pbff, aes(wind, maxArea)) + geom_point() + geom_smooth(method=smoothing_method)\n",
    "grid.arrange(plot1, plot2, nrow=1)\n",
    "cor(bff$logArea, bff$wind)\n",
    "cor(pbff$maxArea, pbff$wind)"
   ]
  },
  {
   "cell_type": "markdown",
   "metadata": {},
   "source": [
    "While wind speed does not have a strong interaction with fire size normally, when we applied the process to the data we saw that wind speed is a factor in the size of the largest fires.  Fires appear to shrink as the wind speed gets to it's highest levels.  This may be a coincidence in our data set, but it is something worth looking into for future research."
   ]
  },
  {
   "cell_type": "markdown",
   "metadata": {},
   "source": [
    "## No Area Relationships"
   ]
  },
  {
   "cell_type": "markdown",
   "metadata": {},
   "source": [
    "### Day"
   ]
  },
  {
   "cell_type": "code",
   "execution_count": 219,
   "metadata": {},
   "outputs": [
    {
     "data": {},
     "metadata": {},
     "output_type": "display_data"
    },
    {
     "data": {
      "text/html": [
       "0.0188530359854996"
      ],
      "text/latex": [
       "0.0188530359854996"
      ],
      "text/markdown": [
       "0.0188530359854996"
      ],
      "text/plain": [
       "[1] 0.01885304"
      ]
     },
     "metadata": {},
     "output_type": "display_data"
    },
    {
     "data": {
      "image/png": "[encoded data removed]",
      "text/plain": [
       "plot without title"
      ]
     },
     "metadata": {},
     "output_type": "display_data"
    }
   ],
   "source": [
    "ggplot(bff, aes(x=numDay, y=logArea)) + \n",
    "    geom_jitter(position = position_jitter(width = 0.1)) + \n",
    "    geom_smooth(method=smoothing_method)\n",
    "cor(bff$logArea, bff$numDay)"
   ]
  },
  {
   "cell_type": "markdown",
   "metadata": {},
   "source": [
    "As seen in the graphic above, the day of the week has almost no effect on the size of fires.  We noticed above that more fires occur around the weekend, but more fires does not correlate to larger fires in this data set."
   ]
  },
  {
   "cell_type": "markdown",
   "metadata": {},
   "source": [
    "### ISI (Initial Spread Index)"
   ]
  },
  {
   "cell_type": "code",
   "execution_count": 203,
   "metadata": {},
   "outputs": [
    {
     "data": {
      "text/html": [
       "0.03284872567192"
      ],
      "text/latex": [
       "0.03284872567192"
      ],
      "text/markdown": [
       "0.03284872567192"
      ],
      "text/plain": [
       "[1] 0.03284873"
      ]
     },
     "metadata": {},
     "output_type": "display_data"
    },
    {
     "data": {
      "text/html": [
       "-0.1631374075383"
      ],
      "text/latex": [
       "-0.1631374075383"
      ],
      "text/markdown": [
       "-0.1631374075383"
      ],
      "text/plain": [
       "[1] -0.1631374"
      ]
     },
     "metadata": {},
     "output_type": "display_data"
    },
    {
     "data": {
      "image/png": "[encoded data removed]",
      "text/plain": [
       "plot without title"
      ]
     },
     "metadata": {},
     "output_type": "display_data"
    }
   ],
   "source": [
    "pbff = bff %>%\n",
    "        mutate(ISI = round(ISI, 0)) %>%\n",
    "        group_by(ISI) %>%\n",
    "        summarize(maxArea = max(logArea))\n",
    "\n",
    "options(repr.plot.width=7, repr.plot.height=3)\n",
    "plot1 = ggplot(data=bff, aes(ISI, logArea)) + geom_point() + geom_smooth(method=smoothing_method)\n",
    "plot2 = ggplot(data=pbff, aes(ISI, maxArea)) + geom_point() + geom_smooth(method=smoothing_method)\n",
    "grid.arrange(plot1, plot2, nrow=1)\n",
    "cor(bff$logArea, bff$ISI)\n",
    "cor(pbff$maxArea, pbff$ISI)"
   ]
  },
  {
   "cell_type": "markdown",
   "metadata": {},
   "source": [
    "The Initial Spread Index is a tricky one to classify.  It has almost no relationship when we compare it to all of the data, analogous to comparing it to the means of the data.  However a small negative correlation appears when we apply the grouping.  This is likely due to an issue with our process.  All of the largest fires appear around the same ISI values.  This means that a larger number of large fires are grouped together, while the small fires with more unique ISI values continue into the second graph.  In all of our study this is the only strong relationship between ISI and area, and so we believe it to be a factor of our processing instead of a true relationship."
   ]
  },
  {
   "cell_type": "markdown",
   "metadata": {},
   "source": [
    "### Rain"
   ]
  },
  {
   "cell_type": "code",
   "execution_count": 204,
   "metadata": {
    "scrolled": true
   },
   "outputs": [
    {
     "data": {
      "text/html": [
       "<table>\n",
       "<thead><tr><th></th><th scope=col>X</th><th scope=col>Y</th><th scope=col>month</th><th scope=col>day</th><th scope=col>FFMC</th><th scope=col>DMC</th><th scope=col>DC</th><th scope=col>ISI</th><th scope=col>temp</th><th scope=col>RH</th><th scope=col>wind</th><th scope=col>rain</th><th scope=col>area</th><th scope=col>logArea</th><th scope=col>numMonth</th><th scope=col>numDay</th></tr></thead>\n",
       "<tbody>\n",
       "\t<tr><th scope=row>500</th><td>7       </td><td>5       </td><td>aug     </td><td>tue     </td><td>96.1    </td><td>181.1   </td><td>671.2   </td><td>14.3    </td><td>27.3    </td><td>63      </td><td>4.9     </td><td>6.4     </td><td>10.82   </td><td>2.381396</td><td>8       </td><td>2       </td></tr>\n",
       "</tbody>\n",
       "</table>\n"
      ],
      "text/latex": [
       "\\begin{tabular}{r|llllllllllllllll}\n",
       "  & X & Y & month & day & FFMC & DMC & DC & ISI & temp & RH & wind & rain & area & logArea & numMonth & numDay\\\\\n",
       "\\hline\n",
       "\t500 & 7        & 5        & aug      & tue      & 96.1     & 181.1    & 671.2    & 14.3     & 27.3     & 63       & 4.9      & 6.4      & 10.82    & 2.381396 & 8        & 2       \\\\\n",
       "\\end{tabular}\n"
      ],
      "text/markdown": [
       "\n",
       "| <!--/--> | X | Y | month | day | FFMC | DMC | DC | ISI | temp | RH | wind | rain | area | logArea | numMonth | numDay | \n",
       "|---|\n",
       "| 500 | 7        | 5        | aug      | tue      | 96.1     | 181.1    | 671.2    | 14.3     | 27.3     | 63       | 4.9      | 6.4      | 10.82    | 2.381396 | 8        | 2        | \n",
       "\n",
       "\n"
      ],
      "text/plain": [
       "    X Y month day FFMC DMC   DC    ISI  temp RH wind rain area  logArea \n",
       "500 7 5 aug   tue 96.1 181.1 671.2 14.3 27.3 63 4.9  6.4  10.82 2.381396\n",
       "    numMonth numDay\n",
       "500 8        2     "
      ]
     },
     "metadata": {},
     "output_type": "display_data"
    }
   ],
   "source": [
    "bff[bff$rain>0,]"
   ]
  },
  {
   "cell_type": "markdown",
   "metadata": {},
   "source": [
    "Rain does not have enough data to prove any effect on the area of a fire.  There is only one non 0 rain data point for big fires.  While rain is an major factor in fires, when using this data set to build a model rain will not be a good indicator."
   ]
  },
  {
   "cell_type": "markdown",
   "metadata": {},
   "source": [
    "## Secondary Effects"
   ]
  },
  {
   "cell_type": "markdown",
   "metadata": {},
   "source": [
    "### Month/Area and Month/Temp"
   ]
  },
  {
   "cell_type": "code",
   "execution_count": 205,
   "metadata": {},
   "outputs": [
    {
     "data": {
      "text/html": [
       "<table>\n",
       "<thead><tr><th scope=col>month</th><th scope=col>count</th><th scope=col>meanArea</th><th scope=col>maxArea</th><th scope=col>maxTemp</th><th scope=col>meanTemp</th><th scope=col>median(area)</th><th scope=col>sum(area)</th></tr></thead>\n",
       "<tbody>\n",
       "\t<tr><td>sep      </td><td>39       </td><td> 73.72872</td><td>1090.84  </td><td>28.3     </td><td>20.06923 </td><td>29.480   </td><td>2875.42  </td></tr>\n",
       "\t<tr><td>aug      </td><td>30       </td><td> 69.16367</td><td> 746.28  </td><td>33.3     </td><td>22.42000 </td><td>27.585   </td><td>2074.91  </td></tr>\n",
       "\t<tr><td>jul      </td><td> 3       </td><td>134.00000</td><td> 278.53  </td><td>26.9     </td><td>20.96667 </td><td>86.450   </td><td> 402.00  </td></tr>\n",
       "\t<tr><td>jun      </td><td> 2       </td><td> 40.20000</td><td>  70.32  </td><td>26.4     </td><td>25.45000 </td><td>40.200   </td><td>  80.40  </td></tr>\n",
       "\t<tr><td>apr      </td><td> 2       </td><td> 36.03000</td><td>  61.13  </td><td>13.7     </td><td> 9.75000 </td><td>36.030   </td><td>  72.06  </td></tr>\n",
       "\t<tr><td>feb      </td><td> 3       </td><td> 29.69000</td><td>  51.78  </td><td>10.1     </td><td> 8.80000 </td><td>24.240   </td><td>  89.07  </td></tr>\n",
       "\t<tr><td>oct      </td><td> 3       </td><td> 29.10000</td><td>  49.37  </td><td>20.2     </td><td>18.23333 </td><td>24.230   </td><td>  87.30  </td></tr>\n",
       "\t<tr><td>may      </td><td> 1       </td><td> 38.48000</td><td>  38.48  </td><td>18.0     </td><td>18.00000 </td><td>38.480   </td><td>  38.48  </td></tr>\n",
       "\t<tr><td>mar      </td><td> 7       </td><td> 25.63857</td><td>  36.85  </td><td>17.0     </td><td>14.10000 </td><td>28.660   </td><td> 179.47  </td></tr>\n",
       "\t<tr><td>dec      </td><td> 5       </td><td> 17.31400</td><td>  24.77  </td><td> 5.1     </td><td> 4.80000 </td><td>17.850   </td><td>  86.57  </td></tr>\n",
       "</tbody>\n",
       "</table>\n"
      ],
      "text/latex": [
       "\\begin{tabular}{r|llllllll}\n",
       " month & count & meanArea & maxArea & maxTemp & meanTemp & median(area) & sum(area)\\\\\n",
       "\\hline\n",
       "\t sep       & 39        &  73.72872 & 1090.84   & 28.3      & 20.06923  & 29.480    & 2875.42  \\\\\n",
       "\t aug       & 30        &  69.16367 &  746.28   & 33.3      & 22.42000  & 27.585    & 2074.91  \\\\\n",
       "\t jul       &  3        & 134.00000 &  278.53   & 26.9      & 20.96667  & 86.450    &  402.00  \\\\\n",
       "\t jun       &  2        &  40.20000 &   70.32   & 26.4      & 25.45000  & 40.200    &   80.40  \\\\\n",
       "\t apr       &  2        &  36.03000 &   61.13   & 13.7      &  9.75000  & 36.030    &   72.06  \\\\\n",
       "\t feb       &  3        &  29.69000 &   51.78   & 10.1      &  8.80000  & 24.240    &   89.07  \\\\\n",
       "\t oct       &  3        &  29.10000 &   49.37   & 20.2      & 18.23333  & 24.230    &   87.30  \\\\\n",
       "\t may       &  1        &  38.48000 &   38.48   & 18.0      & 18.00000  & 38.480    &   38.48  \\\\\n",
       "\t mar       &  7        &  25.63857 &   36.85   & 17.0      & 14.10000  & 28.660    &  179.47  \\\\\n",
       "\t dec       &  5        &  17.31400 &   24.77   &  5.1      &  4.80000  & 17.850    &   86.57  \\\\\n",
       "\\end{tabular}\n"
      ],
      "text/markdown": [
       "\n",
       "month | count | meanArea | maxArea | maxTemp | meanTemp | median(area) | sum(area) | \n",
       "|---|---|---|---|---|---|---|---|---|---|\n",
       "| sep       | 39        |  73.72872 | 1090.84   | 28.3      | 20.06923  | 29.480    | 2875.42   | \n",
       "| aug       | 30        |  69.16367 |  746.28   | 33.3      | 22.42000  | 27.585    | 2074.91   | \n",
       "| jul       |  3        | 134.00000 |  278.53   | 26.9      | 20.96667  | 86.450    |  402.00   | \n",
       "| jun       |  2        |  40.20000 |   70.32   | 26.4      | 25.45000  | 40.200    |   80.40   | \n",
       "| apr       |  2        |  36.03000 |   61.13   | 13.7      |  9.75000  | 36.030    |   72.06   | \n",
       "| feb       |  3        |  29.69000 |   51.78   | 10.1      |  8.80000  | 24.240    |   89.07   | \n",
       "| oct       |  3        |  29.10000 |   49.37   | 20.2      | 18.23333  | 24.230    |   87.30   | \n",
       "| may       |  1        |  38.48000 |   38.48   | 18.0      | 18.00000  | 38.480    |   38.48   | \n",
       "| mar       |  7        |  25.63857 |   36.85   | 17.0      | 14.10000  | 28.660    |  179.47   | \n",
       "| dec       |  5        |  17.31400 |   24.77   |  5.1      |  4.80000  | 17.850    |   86.57   | \n",
       "\n",
       "\n"
      ],
      "text/plain": [
       "   month count meanArea  maxArea maxTemp meanTemp median(area) sum(area)\n",
       "1  sep   39     73.72872 1090.84 28.3    20.06923 29.480       2875.42  \n",
       "2  aug   30     69.16367  746.28 33.3    22.42000 27.585       2074.91  \n",
       "3  jul    3    134.00000  278.53 26.9    20.96667 86.450        402.00  \n",
       "4  jun    2     40.20000   70.32 26.4    25.45000 40.200         80.40  \n",
       "5  apr    2     36.03000   61.13 13.7     9.75000 36.030         72.06  \n",
       "6  feb    3     29.69000   51.78 10.1     8.80000 24.240         89.07  \n",
       "7  oct    3     29.10000   49.37 20.2    18.23333 24.230         87.30  \n",
       "8  may    1     38.48000   38.48 18.0    18.00000 38.480         38.48  \n",
       "9  mar    7     25.63857   36.85 17.0    14.10000 28.660        179.47  \n",
       "10 dec    5     17.31400   24.77  5.1     4.80000 17.850         86.57  "
      ]
     },
     "metadata": {},
     "output_type": "display_data"
    }
   ],
   "source": [
    "bff %>%\n",
    "    group_by(month) %>%\n",
    "    summarize(count = length(area), meanArea = mean(area), maxArea = max(area), maxTemp = max(temp), meanTemp = mean(temp),\n",
    "    median(area), sum(area)) %>%\n",
    "    arrange(desc(maxArea))"
   ]
  },
  {
   "cell_type": "code",
   "execution_count": 206,
   "metadata": {
    "scrolled": false
   },
   "outputs": [
    {
     "data": {},
     "metadata": {},
     "output_type": "display_data"
    },
    {
     "data": {
      "image/png": "[encoded data removed]",
      "text/plain": [
       "plot without title"
      ]
     },
     "metadata": {},
     "output_type": "display_data"
    }
   ],
   "source": [
    "#Area by month\n",
    "arMonth <- ggplot()+\n",
    "geom_jitter(aes(month, area), data = bff, colour = I(\"red\"), position = position_jitter(width = 0.3)) +\n",
    "scale_x_discrete(limits=GetMonthNames())\n",
    "\n",
    "#Temp by month\n",
    "tempMonth <- ggplot()+\n",
    "geom_jitter(aes(month, temp), data = bff, colour = I(\"red\"), position = position_jitter(width = 0.3)) +\n",
    " scale_x_discrete(limits=GetMonthNames())\n",
    "\n",
    "#Temp by rh\n",
    "rhMonth <- ggplot()+\n",
    "geom_jitter(aes(month, RH), data = bff, colour = I(\"red\"), position = position_jitter(width = 0.3)) +\n",
    " scale_x_discrete(limits=GetMonthNames())\n",
    "\n",
    "ggarrange(arMonth, tempMonth, rhMonth,\n",
    "          ncol = 1, nrow = 3)"
   ]
  },
  {
   "cell_type": "markdown",
   "metadata": {},
   "source": [
    "# _TODO_"
   ]
  },
  {
   "cell_type": "markdown",
   "metadata": {},
   "source": [
    "### FFMC / DMC / DC"
   ]
  },
  {
   "cell_type": "markdown",
   "metadata": {},
   "source": [
    "# _TODO_"
   ]
  },
  {
   "cell_type": "markdown",
   "metadata": {},
   "source": [
    "## Conclusion"
   ]
  },
  {
   "cell_type": "markdown",
   "metadata": {},
   "source": [
    "In some areas, forest fires are a major environmental concern, endangering human lives and causing substantial economic damage.  We have been given some data on recent fires in a Portuguese park.  Our goal is to better understand what factors influence how severe a forest fire becomes."
   ]
  },
  {
   "cell_type": "markdown",
   "metadata": {},
   "source": [
    "Forest fires can be a major environmental concern and danger to humans in parks.  We examined this data set with the goal to understand what factors influence how severe a forest fire may become. We used the area of a fire as our measure of a fire's severity. \n",
    "\n",
    "The relative humidity, temperature, and month variables are all closely related.  As are the Fine Fuel Moisture Code, Drought Code, and Duff Moisture Code.  These groupings mean that some of the effect from one may influence's another's correlation.\n",
    "\n",
    "We found that the temperature, relative humidity, Fine Fuel Moisture Code, XY coordinates, and month all had large effects on the area of a fire.  Specifically, if a fire occurs in August or September, the temperature was high, the relative humidity and Fine Fuel Moisture Code were low, and the fire was in the south of the park around (6,4), it is very likely to become a severe forest fire.\n",
    "\n",
    "The Drought Code and Duff Moisture Code also had some effect on the area of a fire.  It is unclear how much of their effect is wrapped up in the Fine Fuel Moisture Code's effect.  They are all very tightly related.  The wind was also shown to have an effect after processing was applied.\n",
    "\n",
    "We also found that the rain, day of week, and Initial Spread Index all had little to no effect on a fire's area."
   ]
  },
  {
   "cell_type": "markdown",
   "metadata": {},
   "source": [
    "## Helper Functions"
   ]
  },
  {
   "cell_type": "code",
   "execution_count": 207,
   "metadata": {},
   "outputs": [],
   "source": [
    "FancyHist <- function(df, var, bins=100, width = 7, whRatio = 2/5){\n",
    "    w_h_ratio = whRatio\n",
    "    width = width\n",
    "    options(repr.plot.width=width, repr.plot.height=width*whRatio)\n",
    "    #Takes a data frame and a string variable name in that data frame and produces a histogram of it\n",
    "    varMean = mean(df[,var])\n",
    "    varSD = sd(df[,var])\n",
    "    \n",
    "    return(\n",
    "        ggplot(df, aes_string(var)) +\n",
    "          geom_histogram(bins=bins, fill=\"red\", color=\"black\") + \n",
    "          geom_vline(aes(xintercept = varMean), colour=\"black\", size = 1) + \n",
    "          geom_vline(aes(xintercept = varMean-varSD), colour=\"black\", size = 0.5, linetype=\"dashed\") + \n",
    "          geom_vline(aes(xintercept = varMean+varSD), colour=\"black\", size = 0.5, linetype=\"dashed\") + \n",
    "          geom_vline(aes(xintercept = varMean-2*varSD), colour=\"gray\", size = 0.75, linetype=\"dashed\") + \n",
    "          geom_vline(aes(xintercept = varMean+2*varSD), colour=\"darkgray\", size = 0.75, linetype=\"dashed\") +\n",
    "          ggtitle(paste(\"Histogram of \", var))\n",
    "    )\n",
    "}\n",
    "\n",
    "GetMonthNames <- function(){\n",
    "    return (c(\"jan\", \"feb\", \"mar\", \"apr\", \"may\", \"jun\", \"jul\", \"aug\", \"sep\", \"oct\", \"nov\", \"dec\"))\n",
    "}\n",
    "\n",
    "GetDayNames <- function(){\n",
    "    return (c(\"mon\", \"tue\", \"wed\", \"thur\", \"fri\", \"sat\", \"sun\"))\n",
    "}\n",
    "\n",
    "ConvertMonthToNumber <- function(m){    \n",
    "        ifelse(m == \"jan\", 1,\n",
    "        ifelse(m == \"feb\", 2,\n",
    "        ifelse(m == \"mar\", 3,\n",
    "        ifelse(m == \"apr\", 4,\n",
    "        ifelse(m == \"may\", 5,\n",
    "        ifelse(m == \"jun\", 6,\n",
    "        ifelse(m == \"jul\", 7,\n",
    "        ifelse(m == \"aug\", 8,\n",
    "        ifelse(m == \"sep\", 9,\n",
    "        ifelse(m == \"oct\", 10,\n",
    "        ifelse(m == \"nov\", 11,\n",
    "        12)))))))))))\n",
    "    \n",
    "}\n",
    "\n",
    "ConvertDayToNumber <- function(d){    \n",
    "        ifelse(d == \"mon\", 1,\n",
    "        ifelse(d == \"tue\", 2,\n",
    "        ifelse(d == \"wed\", 3,\n",
    "        ifelse(d == \"thu\", 4,\n",
    "        ifelse(d == \"fri\", 5,\n",
    "        ifelse(d == \"sat\", 6,\n",
    "        7))))))    \n",
    "}"
   ]
  }
 ],
 "metadata": {
  "kernelspec": {
   "display_name": "R",
   "language": "R",
   "name": "ir"
  },
  "language_info": {
   "codemirror_mode": "r",
   "file_extension": ".r",
   "mimetype": "text/x-r-source",
   "name": "R",
   "pygments_lexer": "r",
   "version": "3.5.1"
  }
 },
 "nbformat": 4,
 "nbformat_minor": 2
}
